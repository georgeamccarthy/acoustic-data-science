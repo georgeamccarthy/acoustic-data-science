{
 "cells": [
  {
   "cell_type": "code",
   "execution_count": 2,
   "metadata": {},
   "outputs": [],
   "source": [
    "# This cell is from the template notebook. It contains ipython magic and \n",
    "# various useful imports which are commonly used in this app.\n",
    "\n",
    "%load_ext autoreload\n",
    "%autoreload 2\n",
    "\n",
    "import pandas as pd\n",
    "import datetime\n",
    "import numpy as np\n",
    "import os\n",
    "from acoustic_data_science import config, helpers\n",
    "import matplotlib.pyplot as plt\n",
    "import logging"
   ]
  },
  {
   "cell_type": "code",
   "execution_count": 5,
   "metadata": {},
   "outputs": [],
   "source": [
    "def get_date_from_datestr(str): \n",
    "    return str[:10]"
   ]
  },
  {
   "cell_type": "code",
   "execution_count": 20,
   "metadata": {},
   "outputs": [
    {
     "data": {
      "text/html": [
       "<div>\n",
       "<style scoped>\n",
       "    .dataframe tbody tr th:only-of-type {\n",
       "        vertical-align: middle;\n",
       "    }\n",
       "\n",
       "    .dataframe tbody tr th {\n",
       "        vertical-align: top;\n",
       "    }\n",
       "\n",
       "    .dataframe thead th {\n",
       "        text-align: right;\n",
       "    }\n",
       "</style>\n",
       "<table border=\"1\" class=\"dataframe\">\n",
       "  <thead>\n",
       "    <tr style=\"text-align: right;\">\n",
       "      <th></th>\n",
       "      <th>timestamp</th>\n",
       "      <th>mean_temperature</th>\n",
       "    </tr>\n",
       "  </thead>\n",
       "  <tbody>\n",
       "    <tr>\n",
       "      <th>0</th>\n",
       "      <td>2018-08-01</td>\n",
       "      <td>6.600901</td>\n",
       "    </tr>\n",
       "    <tr>\n",
       "      <th>1</th>\n",
       "      <td>2018-08-02</td>\n",
       "      <td>6.107467</td>\n",
       "    </tr>\n",
       "    <tr>\n",
       "      <th>2</th>\n",
       "      <td>2018-08-03</td>\n",
       "      <td>6.299008</td>\n",
       "    </tr>\n",
       "    <tr>\n",
       "      <th>3</th>\n",
       "      <td>2018-08-04</td>\n",
       "      <td>8.332302</td>\n",
       "    </tr>\n",
       "    <tr>\n",
       "      <th>4</th>\n",
       "      <td>2018-08-05</td>\n",
       "      <td>7.277796</td>\n",
       "    </tr>\n",
       "    <tr>\n",
       "      <th>...</th>\n",
       "      <td>...</td>\n",
       "      <td>...</td>\n",
       "    </tr>\n",
       "    <tr>\n",
       "      <th>358</th>\n",
       "      <td>2019-07-25</td>\n",
       "      <td>5.329940</td>\n",
       "    </tr>\n",
       "    <tr>\n",
       "      <th>359</th>\n",
       "      <td>2019-07-26</td>\n",
       "      <td>5.365808</td>\n",
       "    </tr>\n",
       "    <tr>\n",
       "      <th>360</th>\n",
       "      <td>2019-07-27</td>\n",
       "      <td>6.282461</td>\n",
       "    </tr>\n",
       "    <tr>\n",
       "      <th>361</th>\n",
       "      <td>2019-07-28</td>\n",
       "      <td>7.126437</td>\n",
       "    </tr>\n",
       "    <tr>\n",
       "      <th>362</th>\n",
       "      <td>2019-07-29</td>\n",
       "      <td>7.662433</td>\n",
       "    </tr>\n",
       "  </tbody>\n",
       "</table>\n",
       "<p>363 rows × 2 columns</p>\n",
       "</div>"
      ],
      "text/plain": [
       "     timestamp  mean_temperature\n",
       "0   2018-08-01          6.600901\n",
       "1   2018-08-02          6.107467\n",
       "2   2018-08-03          6.299008\n",
       "3   2018-08-04          8.332302\n",
       "4   2018-08-05          7.277796\n",
       "..         ...               ...\n",
       "358 2019-07-25          5.329940\n",
       "359 2019-07-26          5.365808\n",
       "360 2019-07-27          6.282461\n",
       "361 2019-07-28          7.126437\n",
       "362 2019-07-29          7.662433\n",
       "\n",
       "[363 rows x 2 columns]"
      ]
     },
     "execution_count": 20,
     "metadata": {},
     "output_type": "execute_result"
    }
   ],
   "source": [
    "#dataframe with daily temperature data from Oceans2.0 website\n",
    "\n",
    "data_file_name = \"ShoreStation_MeteorologicalStation-Lufft_MeteorologicalStation_AirTemperature_20180801T113900Z_20190729T210100Z-NaN_clean.csv\"\n",
    "temp_data = pd.read_csv(os.path.join(config.external_data_path, data_file_name), skiprows=52)\n",
    "\n",
    "#formatting \n",
    "temp_data.drop(temp_data.index[[0]], inplace=True)                                 #drop first row with no data \n",
    "temp_data = temp_data.iloc[: , :-3]                                                #remove last 3 columns\n",
    "temp_data.set_axis(['Time', 'Air Temp', 'Flag'], axis=1, inplace=True)             #rename columns\n",
    "temp_data['Date'] = temp_data['Time'].apply(get_date_from_datestr)                                  #just get date\n",
    "\n",
    "temp_data['Date'] = pd.to_datetime(temp_data['Date'], dayfirst=True)               #convert to timestamp  \n",
    "temp_data['Air Temp'] = temp_data['Air Temp'].astype(float)                        #convert to float \n",
    "daily_temp = temp_data.groupby(by='Date').mean()                                   #new df for daily average temp \n",
    "daily_temp.reset_index(inplace=True)                                               #reset index\n",
    "\n",
    "#add temperature change column \n",
    "daily_temp['Temp Change'] = np.nan\n",
    "for i in range(0, len(daily_temp)-1): \n",
    "    daily_temp.loc[i+1, 'Temp Change'] = (daily_temp.loc[i+1, 'Air Temp']) - (daily_temp.loc[i, 'Air Temp'])\n",
    "    \n",
    "daily_temp = daily_temp.drop(columns=['Flag', 'Temp Change'])\n",
    "daily_temp = daily_temp.rename(columns={\"Date\": \"timestamp\", \"Air Temp\": \"mean_temperature\"})\n",
    "daily_temp"
   ]
  },
  {
   "cell_type": "code",
   "execution_count": 21,
   "metadata": {},
   "outputs": [],
   "source": [
    "daily_temp.to_feather(config.processed_data_path + '/daily_temperature_cambay_shorestation.feather')\n"
   ]
  },
  {
   "cell_type": "code",
   "execution_count": null,
   "metadata": {},
   "outputs": [],
   "source": []
  }
 ],
 "metadata": {
  "interpreter": {
   "hash": "b0fa6594d8f4cbf19f97940f81e996739fb7646882a419484c72d19e05852a7e"
  },
  "kernelspec": {
   "display_name": "Python 3.9.7 64-bit",
   "language": "python",
   "name": "python3"
  },
  "language_info": {
   "codemirror_mode": {
    "name": "ipython",
    "version": 3
   },
   "file_extension": ".py",
   "mimetype": "text/x-python",
   "name": "python",
   "nbconvert_exporter": "python",
   "pygments_lexer": "ipython3",
   "version": "3.8.12"
  },
  "orig_nbformat": 4
 },
 "nbformat": 4,
 "nbformat_minor": 2
}
