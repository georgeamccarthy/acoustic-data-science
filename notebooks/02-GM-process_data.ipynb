{
 "cells": [
  {
   "cell_type": "code",
   "execution_count": null,
   "id": "6a448716-9594-454a-9b01-4019090d90e5",
   "metadata": {},
   "outputs": [],
   "source": [
    "import pandas as pd\n",
    "import datetime\n",
    "import numpy as np\n",
    "import os\n",
    "import glob"
   ]
  },
  {
   "cell_type": "code",
   "execution_count": 1,
   "id": "96c49b06-94ca-425d-ac8b-5609a5d8f717",
   "metadata": {},
   "outputs": [],
   "source": [
    "def get_timestamp(csv_name):\n",
    "    '''Takes CSV file name and returns datetime object.\n",
    "    Example file name: \n",
    "    ICLISTENHF1266_20180930T235802.000Z_TOL_1sHannWindow_50PercentOverlap.csv\n",
    "    '''\n",
    "    \n",
    "    \n",
    "    try:\n",
    "        time_str = csv_name[15:34]\n",
    "    \n",
    "        datetime_object = datetime.datetime(\n",
    "                        year=int(time_str[:4]),\n",
    "                        month=int(time_str[4:6]),\n",
    "                        day=int(time_str[6:8]),\n",
    "                        hour=int(time_str[9:11]),\n",
    "                        minute=int(time_str[11:13]),\n",
    "                        second=int(time_str[13:15]),\n",
    "                        microsecond=int(time_str[16:19])*1000,\n",
    "                )\n",
    "    except:\n",
    "        datetime_object = np.nan\n",
    "        \n",
    "    return datetime_object"
   ]
  },
  {
   "cell_type": "code",
   "execution_count": 2,
   "id": "988909bf-8bad-41f5-873b-9ecb63b8d3b4",
   "metadata": {},
   "outputs": [],
   "source": [
    "def get_timestamps(df):\n",
    "    '''\n",
    "    Adds filename\n",
    "    '''\n",
    "    \n",
    "    first_rows = np.unique(df['timestamp'].values, return_index=1)[1]\n",
    "    first_rows.sort()\n",
    "    first_rows\n",
    "    last_rows = np.concatenate((first_rows[1:], [df.index[-1]]))-1\n",
    "    last_rows\n",
    "\n",
    "    df['filename'] = df['timestamp']\n",
    "\n",
    "    df['timestamp'] = df['timestamp'].apply(get_timestamp)\n",
    "\n",
    "    time_windows = []\n",
    "    file_lengths = last_rows - first_rows + 1\n",
    "    file_lengths[-1] += 1\n",
    "    for file_length in file_lengths:\n",
    "        time_windows.append(np.arange(file_length) * datetime.timedelta(seconds=0.5))\n",
    "\n",
    "    # Flatten list.\n",
    "    time_deltas = np.array([val for sublist in time_windows for val in sublist])\n",
    "\n",
    "    df['timestamp'] = df['timestamp'] + time_deltas\n",
    "    return df"
   ]
  },
  {
   "cell_type": "code",
   "execution_count": null,
   "id": "cd28b1c3-3b99-42a5-9fae-402126c4e36b",
   "metadata": {},
   "outputs": [],
   "source": [
    "def remove_nans(df):\n",
    "    '''\n",
    "    Removes any rows containing nan values and two rows either side of each of \n",
    "    these rows.\n",
    "    '''\n",
    "    m = df.isna().any(axis=1)\n",
    "    return df[~(m | m.shift(fill_value=False) | m.shift(-1, fill_value=False) | m.shift(-2, fill_value=False))]\n",
    "\n",
    "\n",
    "def inf_to_nans(df):\n",
    "    return df.replace([np.inf, -np.inf], np.nan)"
   ]
  },
  {
   "cell_type": "code",
   "execution_count": null,
   "id": "8e69d3d3-7872-4b56-ae6c-8a7fe9961e76",
   "metadata": {},
   "outputs": [],
   "source": [
    "def broadband_func(x): \n",
    "    return 10**(x/10)\n",
    "\n",
    "def calc_spl(df):\n",
    "    # Apply function, map to dataframe, sum by row, take the log and then normalise to maximum value of zero.\n",
    "    df['broadband_spl'] = 10*np.log10(df.loc[:, '25.1188643150958':'25118.8643150958'].applymap(broadband_func).sum(axis=1))\n",
    "    df['broadband_spl'] = df['broadband_spl'] - df['broadband_spl'].max()\n",
    "    \n",
    "    # Calculate 'background' sound level using moving average.\n",
    "    window = 60*60*2 \n",
    "    df['background' ] = df['broadband_spl'].rolling(window).mean()    \n",
    "    \n",
    "    return df"
   ]
  },
  {
   "cell_type": "code",
   "execution_count": null,
   "id": "4a23914c-8f1a-4fe3-86b1-ebfa15dfaf45",
   "metadata": {},
   "outputs": [],
   "source": [
    "def process_df(df):\n",
    "    # Timestamp.\n",
    "    df = get_timestamps(df)\n",
    "    \n",
    "    # Remove nan spl.\n",
    "    pre_clean_length = len(df)\n",
    "    df = remove_nans(inf_to_nans(df)).reset_index()\n",
    "    print(f'{len(df)/pre_clean_length*100:.2f}% data retained after removing nans and surrounding rows.')\n",
    "    \n",
    "    # Sort by timestamp.\n",
    "    df.sort_values('timestamp', inplace=True, ignore_index=True)\n",
    "\n",
    "    # Downcast where possible to save memory.\n",
    "    df['1213'] = pd.to_numeric(df['1213'], downcast='integer')\n",
    "\n",
    "    for column in df.columns:\n",
    "        if df[column].dtype == 'float64':\n",
    "            df[column] = pd.to_numeric(df[column], downcast='float')\n",
    "\n",
    "    # Remove nan times.\n",
    "    pre_clean_length = len(df)\n",
    "    df.drop(df[pd.isnull(df['timestamp'])].index, inplace=True)\n",
    "    print(f'{len(df)/pre_clean_length*100:.2f} of data retained after removing nan times.')\n",
    "    \n",
    "    # Calculate broadband SPL and background.\n",
    "    df = calc_spl(df)\n",
    "    \n",
    "    return df"
   ]
  },
  {
   "cell_type": "code",
   "execution_count": null,
   "id": "82d36920-c9c1-404c-b1a0-232b002b0714",
   "metadata": {},
   "outputs": [],
   "source": [
    "feather_folder_path = '/Volumes/Data/MPhys Project Data/raw_feathers'\n",
    "feather_paths = sorted(glob.glob(f'{feather_folder_path}/*.feather'))\n",
    "for feather_path in feather_paths:\n",
    "    print(feather_path)\n",
    "    \n",
    "    df = pd.read_feather(path=feather_path)\n",
    "    \n",
    "    df = process_df(df)\n",
    "    df.reset_index()\n",
    "            \n",
    "    df.to_feather(path=f\"/Volumes/Data/MPhys Project Data/processed_feathers/{feather_path.split('/')[-1]}\")"
   ]
  }
 ],
 "metadata": {
  "kernelspec": {
   "display_name": "Python 3 (ipykernel)",
   "language": "python",
   "name": "python3"
  },
  "language_info": {
   "codemirror_mode": {
    "name": "ipython",
    "version": 3
   },
   "file_extension": ".py",
   "mimetype": "text/x-python",
   "name": "python",
   "nbconvert_exporter": "python",
   "pygments_lexer": "ipython3",
   "version": "3.8.12"
  }
 },
 "nbformat": 4,
 "nbformat_minor": 5
}
