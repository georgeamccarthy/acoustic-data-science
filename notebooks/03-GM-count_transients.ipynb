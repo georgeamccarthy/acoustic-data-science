{
 "cells": [
  {
   "cell_type": "code",
   "execution_count": 1,
   "id": "03f0854b-5081-4174-bffa-ab3de909e53c",
   "metadata": {},
   "outputs": [],
   "source": [
    "import pandas as pd\n",
    "import datetime\n",
    "import numpy as np\n",
    "import os\n",
    "import glob\n",
    "import matplotlib.pyplot as plt\n",
    "from acoustic_data_science import config, helpers"
   ]
  },
  {
   "cell_type": "code",
   "execution_count": 4,
   "id": "88ec60bd-39b6-43c9-9a06-93f0f14f7987",
   "metadata": {},
   "outputs": [
    {
     "name": "stdout",
     "output_type": "stream",
     "text": [
      "/Users/georgeamccarthy/Documents/workspace/mphys/acoustic-data-science/data/processed/2018_08.feather\n",
      "/Users/georgeamccarthy/Documents/workspace/mphys/acoustic-data-science/data/processed/2018_09.feather\n",
      "/Users/georgeamccarthy/Documents/workspace/mphys/acoustic-data-science/data/processed/2018_10.feather\n",
      "/Users/georgeamccarthy/Documents/workspace/mphys/acoustic-data-science/data/processed/2018_11.feather\n",
      "/Users/georgeamccarthy/Documents/workspace/mphys/acoustic-data-science/data/processed/2018_12.feather\n",
      "/Users/georgeamccarthy/Documents/workspace/mphys/acoustic-data-science/data/processed/2019_01.feather\n",
      "/Users/georgeamccarthy/Documents/workspace/mphys/acoustic-data-science/data/processed/2019_02.feather\n",
      "/Users/georgeamccarthy/Documents/workspace/mphys/acoustic-data-science/data/processed/2019_03.feather\n",
      "/Users/georgeamccarthy/Documents/workspace/mphys/acoustic-data-science/data/processed/2019_04.feather\n",
      "/Users/georgeamccarthy/Documents/workspace/mphys/acoustic-data-science/data/processed/2019_05.feather\n"
     ]
    },
    {
     "data": {
      "text/plain": [
       "[1815, 1008, 3728, 7743, 20362, 33921, 35417, 46833, 31205, 32967]"
      ]
     },
     "execution_count": 4,
     "metadata": {},
     "output_type": "execute_result"
    }
   ],
   "source": [
    "feather_paths = helpers.get_feather_paths(config.processed_data_path)\n",
    "\n",
    "transient_totals = []\n",
    "months = []\n",
    "data_lengths = []\n",
    "\n",
    "for feather_path in feather_paths:\n",
    "    print(feather_path)\n",
    "    \n",
    "    df = pd.read_feather(path=feather_path, columns=['short_transient'])\n",
    "\n",
    "    months.append(feather_path.split('/')[-1][:-len('.feather')])\n",
    "    transient_totals.append(df['short_transient'].sum())\n",
    "    data_lengths.append(len(df))\n",
    "\n",
    "    #df.to_feather(path=f\"/Volumes/Data/mphys_project_data/tagged/{feather_path.split('/')[-1]}\")\n",
    "transient_totals"
   ]
  },
  {
   "cell_type": "code",
   "execution_count": null,
   "id": "74b62653-ca2c-4b10-bd0d-3c339d44d02b",
   "metadata": {},
   "outputs": [],
   "source": []
  },
  {
   "cell_type": "code",
   "execution_count": 7,
   "id": "098087cb-0b5d-47eb-8e52-c0027d1e9d2f",
   "metadata": {},
   "outputs": [
    {
     "data": {
      "text/plain": [
       "array([ 1146.85484039,   829.74635252,  3164.92619168, 14679.42925945,\n",
       "       20277.48833144, 31263.35447613, 45223.37266817, 44913.27490876,\n",
       "       54180.45521402, 32764.62258647])"
      ]
     },
     "execution_count": 7,
     "metadata": {},
     "output_type": "execute_result"
    }
   ],
   "source": [
    "from operator import truediv\n",
    "\n",
    "norm_transient_totals = np.array(list(map(truediv, transient_totals, data_lengths)))*np.mean(data_lengths)\n",
    "norm_transient_totals"
   ]
  },
  {
   "cell_type": "code",
   "execution_count": 8,
   "id": "274ffa8d-a878-411f-80a8-0cd9086ce806",
   "metadata": {},
   "outputs": [
    {
     "name": "stdout",
     "output_type": "stream",
     "text": [
      "2021-12-06 16:02:10,753 - matplotlib.category - INFO - Using categorical units to plot a list of strings that are all parsable as floats or dates. If these strings should be plotted as numbers, cast to the appropriate data type before plotting.\n",
      "2021-12-06 16:02:10,757 - matplotlib.category - INFO - Using categorical units to plot a list of strings that are all parsable as floats or dates. If these strings should be plotted as numbers, cast to the appropriate data type before plotting.\n"
     ]
    },
    {
     "data": {
      "image/png": "[encoded data removed]",
      "text/plain": [
       "<Figure size 1008x576 with 1 Axes>"
      ]
     },
     "metadata": {
      "needs_background": "light"
     },
     "output_type": "display_data"
    },
    {
     "ename": "NameError",
     "evalue": "name 'helper' is not defined",
     "output_type": "error",
     "traceback": [
      "\u001b[0;31m---------------------------------------------------------------------------\u001b[0m",
      "\u001b[0;31mNameError\u001b[0m                                 Traceback (most recent call last)",
      "\u001b[0;32m/var/folders/xw/j5fzsq4j5d5gfqy4tsdkbz0h0000gn/T/ipykernel_85058/1047998913.py\u001b[0m in \u001b[0;36m<module>\u001b[0;34m\u001b[0m\n\u001b[1;32m      2\u001b[0m \u001b[0mplt\u001b[0m\u001b[0;34m.\u001b[0m\u001b[0mbar\u001b[0m\u001b[0;34m(\u001b[0m\u001b[0mmonths\u001b[0m\u001b[0;34m,\u001b[0m \u001b[0mnorm_transient_totals\u001b[0m\u001b[0;34m)\u001b[0m\u001b[0;34m\u001b[0m\u001b[0;34m\u001b[0m\u001b[0m\n\u001b[1;32m      3\u001b[0m \u001b[0mplt\u001b[0m\u001b[0;34m.\u001b[0m\u001b[0mshow\u001b[0m\u001b[0;34m(\u001b[0m\u001b[0;34m)\u001b[0m\u001b[0;34m\u001b[0m\u001b[0;34m\u001b[0m\u001b[0m\n\u001b[0;32m----> 4\u001b[0;31m \u001b[0mplt\u001b[0m\u001b[0;34m.\u001b[0m\u001b[0msavefig\u001b[0m\u001b[0;34m(\u001b[0m\u001b[0mhelper\u001b[0m\u001b[0;34m)\u001b[0m\u001b[0;34m\u001b[0m\u001b[0;34m\u001b[0m\u001b[0m\n\u001b[0m",
      "\u001b[0;31mNameError\u001b[0m: name 'helper' is not defined"
     ]
    }
   ],
   "source": [
    "plt.figure(figsize=(14,8))\n",
    "plt.bar(months, norm_transient_totals)\n",
    "plt.show()\n",
    "plt.savefig(helper)"
   ]
  },
  {
   "cell_type": "code",
   "execution_count": null,
   "id": "34207816-412f-4d7c-97e1-2d4191e33591",
   "metadata": {},
   "outputs": [],
   "source": []
  }
 ],
 "metadata": {
  "kernelspec": {
   "display_name": "Python 3 (ipykernel)",
   "language": "python",
   "name": "python3"
  },
  "language_info": {
   "codemirror_mode": {
    "name": "ipython",
    "version": 3
   },
   "file_extension": ".py",
   "mimetype": "text/x-python",
   "name": "python",
   "nbconvert_exporter": "python",
   "pygments_lexer": "ipython3",
   "version": "3.8.12"
  }
 },
 "nbformat": 4,
 "nbformat_minor": 5
}
