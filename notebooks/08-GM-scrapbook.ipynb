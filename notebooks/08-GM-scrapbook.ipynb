{
 "cells": [
  {
   "cell_type": "code",
   "execution_count": 2,
   "metadata": {},
   "outputs": [],
   "source": [
    "%load_ext autoreload\n",
    "%autoreload 2\n",
    "\n",
    "import pandas as pd\n",
    "import datetime\n",
    "import numpy as np\n",
    "import os\n",
    "from acoustic_data_science import config, helpers\n",
    "import matplotlib.pyplot as plt"
   ]
  },
  {
   "cell_type": "code",
   "execution_count": 6,
   "metadata": {},
   "outputs": [
    {
     "data": {
      "text/plain": [
       "[array([ 0.5,  0.5,  0.5, ..., 24. ,  2. ,  0.5]),\n",
       " array([188. ,   0.5,   1.5, ...,   1. ,   0.5,   0.5]),\n",
       " array([ 1. ,  0.5,  0.5, ..., 28. , 28. , 20.5]),\n",
       " array([37.5, 37.5,  0.5, ...,  0.5,  0.5, 13.5]),\n",
       " array([29.5,  0.5,  0.5, ...,  0.5,  6.5, 36.5]),\n",
       " array([24. , 63. ,  1.5, ...,  0.5,  0.5,  1. ]),\n",
       " array([ 1. ,  0.5,  0.5, ..., 16.5,  1.5,  0.5]),\n",
       " array([0.5, 0.5, 0.5, ..., 0.5, 0.5, 5. ]),\n",
       " array([0.5, 0.5, 0.5, ..., 0.5, 0.5, 0.5]),\n",
       " array([ 0.5,  0.5,  0.5, ...,  0.5,  2. , 31. ])]"
      ]
     },
     "execution_count": 6,
     "metadata": {},
     "output_type": "execute_result"
    }
   ],
   "source": []
  },
  {
   "cell_type": "code",
   "execution_count": null,
   "metadata": {},
   "outputs": [],
   "source": []
  }
 ],
 "metadata": {
  "interpreter": {
   "hash": "b0fa6594d8f4cbf19f97940f81e996739fb7646882a419484c72d19e05852a7e"
  },
  "kernelspec": {
   "display_name": "Python 3.9.7 64-bit",
   "language": "python",
   "name": "python3"
  },
  "language_info": {
   "codemirror_mode": {
    "name": "ipython",
    "version": 3
   },
   "file_extension": ".py",
   "mimetype": "text/x-python",
   "name": "python",
   "nbconvert_exporter": "python",
   "pygments_lexer": "ipython3",
   "version": "3.9.7"
  },
  "orig_nbformat": 4
 },
 "nbformat": 4,
 "nbformat_minor": 2
}
