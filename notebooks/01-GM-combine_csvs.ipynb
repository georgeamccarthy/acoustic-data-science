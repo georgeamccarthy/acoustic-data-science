{
 "cells": [
  {
   "cell_type": "code",
   "execution_count": 2,
   "id": "8fdc711a-2889-40e4-8c0d-d7638cfb5ab1",
   "metadata": {},
   "outputs": [
    {
     "name": "stdout",
     "output_type": "stream",
     "text": [
      "The autoreload extension is already loaded. To reload it, use:\n",
      "  %reload_ext autoreload\n"
     ]
    }
   ],
   "source": [
    "# Load the \"autoreload\" extension so that code can change.\n",
    "%load_ext autoreload\n",
    "\n",
    "# always reload modules so that as you change code in src, it gets loaded.\n",
    "%autoreload 2\n",
    "\n",
    "# Add src folder to project path.\n",
    "src_dir = os.path.join(os.getcwd(), os.pardir, 'src')\n",
    "sys.path.append(src_dir)"
   ]
  },
  {
   "cell_type": "code",
   "execution_count": 3,
   "id": "e4bbd429-ed35-428d-acbe-7dc331f69167",
   "metadata": {},
   "outputs": [],
   "source": [
    "import pandas as pd\n",
    "import datetime\n",
    "import numpy as np\n",
    "import os\n",
    "import glob\n",
    "import config"
   ]
  },
  {
   "cell_type": "code",
   "execution_count": 7,
   "id": "3635886d-7019-4ce7-adc1-065f31667d6a",
   "metadata": {},
   "outputs": [
    {
     "data": {
      "text/plain": [
       "['../data/raw/reorganised_tols/.ipynb_checkpoints',\n",
       " '../data/raw/reorganised_tols/2018_08',\n",
       " '../data/raw/reorganised_tols/2018_09',\n",
       " '../data/raw/reorganised_tols/2018_10',\n",
       " '../data/raw/reorganised_tols/2018_11',\n",
       " '../data/raw/reorganised_tols/2018_12',\n",
       " '../data/raw/reorganised_tols/2019_01',\n",
       " '../data/raw/reorganised_tols/2019_02',\n",
       " '../data/raw/reorganised_tols/2019_03',\n",
       " '../data/raw/reorganised_tols/2019_04',\n",
       " '../data/raw/reorganised_tols/2019_05',\n",
       " '../data/raw/reorganised_tols/2019_06 1Hz not TOLs']"
      ]
     },
     "execution_count": 7,
     "metadata": {},
     "output_type": "execute_result"
    }
   ],
   "source": [
    "month_paths = []\n",
    "for month in os.listdir(config.raw_tols_path):\n",
    "    csv_folder_path = f'{config.raw_tols_path}/{month}'\n",
    "    if os.path.isdir(csv_folder_path):\n",
    "        month_paths.append(csv_folder_path)\n",
    "        \n",
    "month_paths.sort()\n",
    "month_paths"
   ]
  },
  {
   "cell_type": "code",
   "execution_count": null,
   "id": "188be52f-bd93-49cc-9d2b-ece6a89ed616",
   "metadata": {},
   "outputs": [],
   "source": [
    "for month in month_paths:\n",
    "    print(month)\n",
    "    files = glob.iglob(os.path.join(month, \"*.csv\"))\n",
    "    df_from_each_file = (pd.read_csv(f).assign(timestamp=os.path.basename(f).split('/')[-1]) for f in files)\n",
    "    csv_data = pd.concat(df_from_each_file, ignore_index=True)\n",
    "    csv_data.to_feather('acoustic_data/combined_feathers/'+month.split('/')[-1]+'.feather')"
   ]
  }
 ],
 "metadata": {
  "kernelspec": {
   "display_name": "Python 3 (ipykernel)",
   "language": "python",
   "name": "python3"
  },
  "language_info": {
   "codemirror_mode": {
    "name": "ipython",
    "version": 3
   },
   "file_extension": ".py",
   "mimetype": "text/x-python",
   "name": "python",
   "nbconvert_exporter": "python",
   "pygments_lexer": "ipython3",
   "version": "3.8.12"
  }
 },
 "nbformat": 4,
 "nbformat_minor": 5
}
