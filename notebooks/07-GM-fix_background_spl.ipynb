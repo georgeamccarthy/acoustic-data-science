{
 "cells": [
  {
   "cell_type": "code",
   "execution_count": 3,
   "id": "0d460d6e-cae0-4df3-b974-b998270e9972",
   "metadata": {},
   "outputs": [],
   "source": [
    "import pandas as pd\n",
    "import datetime\n",
    "import numpy as np\n",
    "import os\n",
    "import glob\n",
    "import acoustic_data_science.config as config\n",
    "import matplotlib.pyplot as plt"
   ]
  },
  {
   "cell_type": "code",
   "execution_count": 4,
   "id": "56a36fda-a937-43a6-bd9e-7503aa17bd29",
   "metadata": {},
   "outputs": [
    {
     "ename": "AttributeError",
     "evalue": "module 'acoustic_data_science.config' has no attribute 'get_feather_paths'",
     "output_type": "error",
     "traceback": [
      "\u001b[0;31m---------------------------------------------------------------------------\u001b[0m",
      "\u001b[0;31mAttributeError\u001b[0m                            Traceback (most recent call last)",
      "\u001b[0;32m/var/folders/xw/j5fzsq4j5d5gfqy4tsdkbz0h0000gn/T/ipykernel_72983/2335337672.py\u001b[0m in \u001b[0;36m<module>\u001b[0;34m\u001b[0m\n\u001b[0;32m----> 1\u001b[0;31m \u001b[0mfeather_paths\u001b[0m \u001b[0;34m=\u001b[0m \u001b[0mconfig\u001b[0m\u001b[0;34m.\u001b[0m\u001b[0mget_feather_paths\u001b[0m\u001b[0;34m(\u001b[0m\u001b[0mconfig\u001b[0m\u001b[0;34m.\u001b[0m\u001b[0mprocessed_data_path\u001b[0m\u001b[0;34m)\u001b[0m\u001b[0;34m\u001b[0m\u001b[0;34m\u001b[0m\u001b[0m\n\u001b[0m\u001b[1;32m      2\u001b[0m \u001b[0mfeather_path\u001b[0m \u001b[0;34m=\u001b[0m \u001b[0mfeather_paths\u001b[0m\u001b[0;34m[\u001b[0m\u001b[0;36m3\u001b[0m\u001b[0;34m]\u001b[0m\u001b[0;34m\u001b[0m\u001b[0;34m\u001b[0m\u001b[0m\n\u001b[1;32m      3\u001b[0m \u001b[0mprint\u001b[0m\u001b[0;34m(\u001b[0m\u001b[0mfeather_path\u001b[0m\u001b[0;34m)\u001b[0m\u001b[0;34m\u001b[0m\u001b[0;34m\u001b[0m\u001b[0m\n",
      "\u001b[0;31mAttributeError\u001b[0m: module 'acoustic_data_science.config' has no attribute 'get_feather_paths'"
     ]
    }
   ],
   "source": [
    "feather_paths = config.get_feather_paths(config.processed_data_path)\n",
    "feather_path = feather_paths[3]\n",
    "print(feather_path)"
   ]
  },
  {
   "cell_type": "code",
   "execution_count": 5,
   "id": "caaac5d0-3ffa-4579-958a-9e8bafbcda36",
   "metadata": {},
   "outputs": [],
   "source": [
    "df = pd.read_feather(feather_path)"
   ]
  },
  {
   "cell_type": "code",
   "execution_count": 168,
   "id": "6f57570a-3690-4a18-a8a2-631e206f74c3",
   "metadata": {},
   "outputs": [],
   "source": [
    "def get_unixtime(timestamp):\n",
    "    return timestamp.timestamp()\n",
    "\n",
    "df['unix_time'] = df['timestamp'].apply(get_unixtime)"
   ]
  },
  {
   "cell_type": "code",
   "execution_count": 170,
   "id": "9381b59a-6d2a-4937-9419-41a7ba2cf6aa",
   "metadata": {},
   "outputs": [],
   "source": [
    "def broadband_func(x): \n",
    "    return 10**(x/10)\n",
    "\n",
    "def calc_spl(df):\n",
    "    # Apply function, map to dataframe, sum by row, take the log and then normalise to maximum value of zero.\n",
    "    df['broadband_spl'] = 10*np.log10(df.loc[:, '25.1188643150958':'25118.8643150958'].applymap(broadband_func).sum(axis=1))\n",
    "    df['broadband_spl'] = df['broadband_spl'] - df['broadband_spl'].max()\n",
    "    \n",
    "    # Calculate 'background' sound level using moving average.\n",
    "    window = 60*60*2 \n",
    "    df['background' ] = df['broadband_spl'].rolling(window).mean()    \n",
    "    \n",
    "    df = df.dropna(axis='rows', subset=['background']).reset_index(drop=True)\n",
    "    \n",
    "    return df\n",
    "\n",
    "df = calc_spl(df)"
   ]
  },
  {
   "cell_type": "code",
   "execution_count": 2,
   "id": "5c6d1083-1eb6-4f46-b67b-7f0f6ea12fec",
   "metadata": {},
   "outputs": [
    {
     "ename": "NameError",
     "evalue": "name 'datetime' is not defined",
     "output_type": "error",
     "traceback": [
      "\u001b[0;31m---------------------------------------------------------------------------\u001b[0m",
      "\u001b[0;31mNameError\u001b[0m                                 Traceback (most recent call last)",
      "\u001b[0;32m/var/folders/xw/j5fzsq4j5d5gfqy4tsdkbz0h0000gn/T/ipykernel_72983/1187498108.py\u001b[0m in \u001b[0;36m<module>\u001b[0;34m\u001b[0m\n\u001b[1;32m     15\u001b[0m     \u001b[0mplt\u001b[0m\u001b[0;34m.\u001b[0m\u001b[0mshow\u001b[0m\u001b[0;34m(\u001b[0m\u001b[0;34m)\u001b[0m\u001b[0;34m\u001b[0m\u001b[0;34m\u001b[0m\u001b[0m\n\u001b[1;32m     16\u001b[0m \u001b[0;34m\u001b[0m\u001b[0m\n\u001b[0;32m---> 17\u001b[0;31m \u001b[0mstarttime\u001b[0m \u001b[0;34m=\u001b[0m \u001b[0mdatetime\u001b[0m\u001b[0;34m.\u001b[0m\u001b[0mtimedelta\u001b[0m\u001b[0;34m(\u001b[0m\u001b[0;34m)\u001b[0m\u001b[0;34m\u001b[0m\u001b[0;34m\u001b[0m\u001b[0m\n\u001b[0m\u001b[1;32m     18\u001b[0m \u001b[0mduration\u001b[0m \u001b[0;34m=\u001b[0m \u001b[0mdatetime\u001b[0m\u001b[0;34m.\u001b[0m\u001b[0mtimedelta\u001b[0m\u001b[0;34m(\u001b[0m\u001b[0mhours\u001b[0m\u001b[0;34m=\u001b[0m\u001b[0;36m1\u001b[0m\u001b[0;34m)\u001b[0m\u001b[0;34m\u001b[0m\u001b[0;34m\u001b[0m\u001b[0m\n\u001b[1;32m     19\u001b[0m \u001b[0mplot_show_transient_events_relative_to_background\u001b[0m\u001b[0;34m(\u001b[0m\u001b[0mdf\u001b[0m\u001b[0;34m,\u001b[0m \u001b[0mstarttime\u001b[0m\u001b[0;34m,\u001b[0m \u001b[0mduration\u001b[0m\u001b[0;34m)\u001b[0m\u001b[0;34m\u001b[0m\u001b[0;34m\u001b[0m\u001b[0m\n",
      "\u001b[0;31mNameError\u001b[0m: name 'datetime' is not defined"
     ]
    }
   ],
   "source": [
    "plt.figure(figsize=(14,8))\n",
    "plt.plot(df['timestamp'], df['broadband_spl'], 'g:')\n",
    "plt.plot(df['timestamp'], df['background'], '-', color='b')\n",
    "plt.plot(df['timestamp'], df['background']+10, '-', color='r')\n",
    "transient_mask = df['broadband_spl'] > (df['background']+10)\n",
    "plt.plot(df['timestamp'][transient_mask], df['broadband_spl'][transient_mask], 'rx')\n",
    "plt.xlim(df['timestamp'].min()+ datetime.timedelta(days=1), df['timestamp'].min() + datetime.timedelta(days=2))\n",
    "\n",
    "'''\n",
    "for i in range(1, int(df['unix_time'].max()-df['unix_time'].min())//60**2):\n",
    "    plt.axvline(df['timestamp'].min() + datetime.timedelta(seconds=i*60**2), ls='--')\n",
    "'''\n",
    "    \n",
    "plt.show()"
   ]
  },
  {
   "cell_type": "code",
   "execution_count": 179,
   "id": "1aaf32e8-268e-4d00-bb20-2e14b30525aa",
   "metadata": {},
   "outputs": [],
   "source": [
    "df.to_feather(config.interim_data_path + '/2018_11.feather')"
   ]
  },
  {
   "cell_type": "code",
   "execution_count": null,
   "id": "2bbb4edb-dc1c-4d48-b3c9-72518cac585c",
   "metadata": {},
   "outputs": [],
   "source": []
  }
 ],
 "metadata": {
  "kernelspec": {
   "display_name": "Python 3 (ipykernel)",
   "language": "python",
   "name": "python3"
  },
  "language_info": {
   "codemirror_mode": {
    "name": "ipython",
    "version": 3
   },
   "file_extension": ".py",
   "mimetype": "text/x-python",
   "name": "python",
   "nbconvert_exporter": "python",
   "pygments_lexer": "ipython3",
   "version": "3.9.7"
  }
 },
 "nbformat": 4,
 "nbformat_minor": 5
}
