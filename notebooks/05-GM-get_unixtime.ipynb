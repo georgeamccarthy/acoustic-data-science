{
 "cells": [
  {
   "cell_type": "code",
   "execution_count": null,
   "id": "f2714745-e95c-4d04-8f63-fbffed18aca2",
   "metadata": {},
   "outputs": [],
   "source": [
    "def get_unixtime(timestamp):\n",
    "    return timestamp.timestamp()\n",
    "\n",
    "df['unix_time'] = df['timestamp'].apply(get_unixtime)"
   ]
  }
 ],
 "metadata": {
  "kernelspec": {
   "display_name": "Python 3 (ipykernel)",
   "language": "python",
   "name": "python3"
  },
  "language_info": {
   "codemirror_mode": {
    "name": "ipython",
    "version": 3
   },
   "file_extension": ".py",
   "mimetype": "text/x-python",
   "name": "python",
   "nbconvert_exporter": "python",
   "pygments_lexer": "ipython3",
   "version": "3.8.12"
  }
 },
 "nbformat": 4,
 "nbformat_minor": 5
}
