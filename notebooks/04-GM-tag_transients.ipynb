{
 "cells": [
  {
   "cell_type": "code",
   "execution_count": 1,
   "id": "6e76bc25-b8ab-4ae3-8ec6-ca2914ca3917",
   "metadata": {},
   "outputs": [],
   "source": [
    "import pandas as pd\n",
    "import datetime\n",
    "import numpy as np\n",
    "import os\n",
    "import glob\n",
    "import acoustic_data_science.config as config"
   ]
  },
  {
   "cell_type": "code",
   "execution_count": 2,
   "id": "a7dc3753-69a1-4959-aa53-79bede051529",
   "metadata": {},
   "outputs": [],
   "source": [
    "def loud_noises(df): \n",
    "    'function takes in broadband SPL dataframe and adds label True/False depending if time interval is classified as loud or not'\n",
    "    'returns original dataframe with loud label and dataframe with just loud noises'\n",
    "    \n",
    "    # detection of transient events - example if mean noise of 'crack' is 10% louder than mean background noise \n",
    "    df['broadband_spl']>(df['background']+10)\n",
    "\n",
    "    #new dataframe of transient events for plotting \n",
    "    loud_noise = df[df['loud']==True]\n",
    "    loud_noise.reset_index(inplace=True)\n",
    "    \n",
    "    #prints number of loud noise events as number and percentage of overall time \n",
    "    print('Number of loud noise events detected {}, {:.2}% of total time'.format(len(loud_noise), len(loud_noise)/len(df)*100))\n",
    "\n",
    "    return df, loud_noise"
   ]
  },
  {
   "cell_type": "code",
   "execution_count": 3,
   "id": "b48c224b-31e5-4f11-a22b-ca5d50aac015",
   "metadata": {},
   "outputs": [],
   "source": [
    "def transients_from_loud(df):\n",
    "    'FASTER METHOD - inserts new column (transient) with a True / False flag for a transient event '\n",
    "    \n",
    "    df['trans_shft_down'] = np.concatenate((np.array([True]), df['loud'][:-1]))\n",
    "    df['trans_shft_up'] = np.concatenate((df['loud'][1:], np.array([True])))\n",
    "    df['transient'] = df['loud'] & (df['trans_shft_down']==False) & (df['trans_shft_up']==False)\n",
    "    df.drop(columns=['trans_shft_down', 'trans_shft_up'], inplace=True)\n",
    "    \n",
    "    return df"
   ]
  },
  {
   "cell_type": "code",
   "execution_count": 5,
   "id": "156a2dd0-b81d-49cb-8784-7ba50742d067",
   "metadata": {},
   "outputs": [
    {
     "name": "stdout",
     "output_type": "stream",
     "text": [
      "../data/interim/2018_08.feather\n",
      "../data/interim/2018_09.feather\n",
      "../data/interim/2018_10.feather\n",
      "../data/interim/2018_11.feather\n",
      "../data/interim/2018_12.feather\n",
      "../data/interim/2019_01.feather\n",
      "../data/interim/2019_02.feather\n",
      "../data/interim/2019_03.feather\n",
      "../data/interim/2019_04.feather\n",
      "../data/interim/2019_05.feather\n"
     ]
    }
   ],
   "source": [
    "feather_folder_path = config.interim_data_path\n",
    "feather_paths = sorted(glob.glob(f'{feather_folder_path}/*.feather'))\n",
    "for feather_path in feather_paths:\n",
    "    print(feather_path)\n",
    "    \n",
    "    df = pd.read_feather(path=feather_path)\n",
    "    df = df.dropna(axis='rows', subset=['background']).reset_index()\n",
    "\n",
    "    # Tag loud noises.\n",
    "    df['loud'] = df['broadband_spl']>(df['background']+10)\n",
    "    \n",
    "    # Tag cracks.\n",
    "    df = transients_from_loud(df)\n",
    "\n",
    "    #df.to_feather(path=f\"{config.processed_data_path}/{feather_path.split('/')[-1]}\")"
   ]
  },
  {
   "cell_type": "code",
   "execution_count": null,
   "id": "946c4da6-6bb5-4776-a5e3-5bf8c3ab5736",
   "metadata": {},
   "outputs": [],
   "source": []
  }
 ],
 "metadata": {
  "kernelspec": {
   "display_name": "Python 3 (ipykernel)",
   "language": "python",
   "name": "python3"
  },
  "language_info": {
   "codemirror_mode": {
    "name": "ipython",
    "version": 3
   },
   "file_extension": ".py",
   "mimetype": "text/x-python",
   "name": "python",
   "nbconvert_exporter": "python",
   "pygments_lexer": "ipython3",
   "version": "3.8.12"
  }
 },
 "nbformat": 4,
 "nbformat_minor": 5
}
