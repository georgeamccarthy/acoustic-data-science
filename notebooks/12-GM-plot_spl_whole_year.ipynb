{
 "cells": [
  {
   "cell_type": "code",
   "execution_count": 5,
   "metadata": {},
   "outputs": [
    {
     "name": "stdout",
     "output_type": "stream",
     "text": [
      "The autoreload extension is already loaded. To reload it, use:\n",
      "  %reload_ext autoreload\n"
     ]
    }
   ],
   "source": [
    "# This cell is from the template notebook. It contains ipython magic and \n",
    "# various useful imports which are commonly used in this app.\n",
    "\n",
    "%load_ext autoreload\n",
    "%autoreload 2\n",
    "\n",
    "import pandas as pd\n",
    "import datetime\n",
    "import numpy as np\n",
    "import os\n",
    "from acoustic_data_science import config, helpers\n",
    "import matplotlib.pyplot as plt"
   ]
  },
  {
   "cell_type": "code",
   "execution_count": 6,
   "metadata": {},
   "outputs": [
    {
     "data": {
      "text/plain": [
       "['/Users/georgeamccarthy/Documents/workspace/mphys/acoustic-data-science/data/processed/monthly_data/2018_08.feather',\n",
       " '/Users/georgeamccarthy/Documents/workspace/mphys/acoustic-data-science/data/processed/monthly_data/2018_09.feather',\n",
       " '/Users/georgeamccarthy/Documents/workspace/mphys/acoustic-data-science/data/processed/monthly_data/2018_10.feather',\n",
       " '/Users/georgeamccarthy/Documents/workspace/mphys/acoustic-data-science/data/processed/monthly_data/2018_11.feather',\n",
       " '/Users/georgeamccarthy/Documents/workspace/mphys/acoustic-data-science/data/processed/monthly_data/2018_12.feather',\n",
       " '/Users/georgeamccarthy/Documents/workspace/mphys/acoustic-data-science/data/processed/monthly_data/2019_01.feather',\n",
       " '/Users/georgeamccarthy/Documents/workspace/mphys/acoustic-data-science/data/processed/monthly_data/2019_02.feather',\n",
       " '/Users/georgeamccarthy/Documents/workspace/mphys/acoustic-data-science/data/processed/monthly_data/2019_03.feather',\n",
       " '/Users/georgeamccarthy/Documents/workspace/mphys/acoustic-data-science/data/processed/monthly_data/2019_04.feather',\n",
       " '/Users/georgeamccarthy/Documents/workspace/mphys/acoustic-data-science/data/processed/monthly_data/2019_05.feather']"
      ]
     },
     "execution_count": 6,
     "metadata": {},
     "output_type": "execute_result"
    }
   ],
   "source": [
    "feather_paths = helpers.get_feather_paths(config.processed_data_path + '/monthly_data')\n",
    "feather_paths"
   ]
  },
  {
   "cell_type": "code",
   "execution_count": 7,
   "metadata": {},
   "outputs": [],
   "source": [
    "df_generator = (pd.read_feather(feather_path, columns=['timestamp', 'broadband_spl', 'background_spl']) for feather_path in feather_paths)\n",
    "df = pd.concat(df_generator, ignore_index=True)\n",
    "#df.to_feather(path=os.path.join(config.processed_data_path, 'whole_year', 'whole_year.feather'))"
   ]
  },
  {
   "cell_type": "code",
   "execution_count": 8,
   "metadata": {},
   "outputs": [
    {
     "data": {
      "text/html": [
       "<div>\n",
       "<style scoped>\n",
       "    .dataframe tbody tr th:only-of-type {\n",
       "        vertical-align: middle;\n",
       "    }\n",
       "\n",
       "    .dataframe tbody tr th {\n",
       "        vertical-align: top;\n",
       "    }\n",
       "\n",
       "    .dataframe thead th {\n",
       "        text-align: right;\n",
       "    }\n",
       "</style>\n",
       "<table border=\"1\" class=\"dataframe\">\n",
       "  <thead>\n",
       "    <tr style=\"text-align: right;\">\n",
       "      <th></th>\n",
       "      <th>timestamp</th>\n",
       "      <th>broadband_spl</th>\n",
       "      <th>background_spl</th>\n",
       "    </tr>\n",
       "  </thead>\n",
       "  <tbody>\n",
       "    <tr>\n",
       "      <th>0</th>\n",
       "      <td>2018-08-02 00:08:03.500</td>\n",
       "      <td>-57.607837</td>\n",
       "      <td>-56.670380</td>\n",
       "    </tr>\n",
       "    <tr>\n",
       "      <th>1</th>\n",
       "      <td>2018-08-02 00:08:04.000</td>\n",
       "      <td>-57.849402</td>\n",
       "      <td>-56.669828</td>\n",
       "    </tr>\n",
       "    <tr>\n",
       "      <th>2</th>\n",
       "      <td>2018-08-02 00:08:04.500</td>\n",
       "      <td>-58.041780</td>\n",
       "      <td>-56.669340</td>\n",
       "    </tr>\n",
       "    <tr>\n",
       "      <th>3</th>\n",
       "      <td>2018-08-02 00:08:05.000</td>\n",
       "      <td>-57.718385</td>\n",
       "      <td>-56.668625</td>\n",
       "    </tr>\n",
       "    <tr>\n",
       "      <th>4</th>\n",
       "      <td>2018-08-02 00:08:05.500</td>\n",
       "      <td>-57.395894</td>\n",
       "      <td>-56.667946</td>\n",
       "    </tr>\n",
       "    <tr>\n",
       "      <th>...</th>\n",
       "      <td>...</td>\n",
       "      <td>...</td>\n",
       "      <td>...</td>\n",
       "    </tr>\n",
       "    <tr>\n",
       "      <th>30048620</th>\n",
       "      <td>2019-05-31 22:57:28.007</td>\n",
       "      <td>-55.031424</td>\n",
       "      <td>-63.653202</td>\n",
       "    </tr>\n",
       "    <tr>\n",
       "      <th>30048621</th>\n",
       "      <td>2019-05-31 22:57:28.507</td>\n",
       "      <td>-49.616213</td>\n",
       "      <td>-63.635780</td>\n",
       "    </tr>\n",
       "    <tr>\n",
       "      <th>30048622</th>\n",
       "      <td>2019-05-31 22:57:29.007</td>\n",
       "      <td>-49.719039</td>\n",
       "      <td>-63.618844</td>\n",
       "    </tr>\n",
       "    <tr>\n",
       "      <th>30048623</th>\n",
       "      <td>2019-05-31 22:57:29.507</td>\n",
       "      <td>-48.590468</td>\n",
       "      <td>-63.600810</td>\n",
       "    </tr>\n",
       "    <tr>\n",
       "      <th>30048624</th>\n",
       "      <td>2019-05-31 22:57:30.007</td>\n",
       "      <td>-52.633453</td>\n",
       "      <td>-63.585943</td>\n",
       "    </tr>\n",
       "  </tbody>\n",
       "</table>\n",
       "<p>30048625 rows × 3 columns</p>\n",
       "</div>"
      ],
      "text/plain": [
       "                       timestamp  broadband_spl  background_spl\n",
       "0        2018-08-02 00:08:03.500     -57.607837      -56.670380\n",
       "1        2018-08-02 00:08:04.000     -57.849402      -56.669828\n",
       "2        2018-08-02 00:08:04.500     -58.041780      -56.669340\n",
       "3        2018-08-02 00:08:05.000     -57.718385      -56.668625\n",
       "4        2018-08-02 00:08:05.500     -57.395894      -56.667946\n",
       "...                          ...            ...             ...\n",
       "30048620 2019-05-31 22:57:28.007     -55.031424      -63.653202\n",
       "30048621 2019-05-31 22:57:28.507     -49.616213      -63.635780\n",
       "30048622 2019-05-31 22:57:29.007     -49.719039      -63.618844\n",
       "30048623 2019-05-31 22:57:29.507     -48.590468      -63.600810\n",
       "30048624 2019-05-31 22:57:30.007     -52.633453      -63.585943\n",
       "\n",
       "[30048625 rows x 3 columns]"
      ]
     },
     "execution_count": 8,
     "metadata": {},
     "output_type": "execute_result"
    }
   ],
   "source": [
    "df"
   ]
  },
  {
   "cell_type": "code",
   "execution_count": 9,
   "metadata": {},
   "outputs": [
    {
     "data": {
      "text/html": [
       "<div>\n",
       "<style scoped>\n",
       "    .dataframe tbody tr th:only-of-type {\n",
       "        vertical-align: middle;\n",
       "    }\n",
       "\n",
       "    .dataframe tbody tr th {\n",
       "        vertical-align: top;\n",
       "    }\n",
       "\n",
       "    .dataframe thead th {\n",
       "        text-align: right;\n",
       "    }\n",
       "</style>\n",
       "<table border=\"1\" class=\"dataframe\">\n",
       "  <thead>\n",
       "    <tr style=\"text-align: right;\">\n",
       "      <th></th>\n",
       "      <th>timestamp</th>\n",
       "      <th>broadband_spl</th>\n",
       "      <th>background_spl</th>\n",
       "    </tr>\n",
       "  </thead>\n",
       "  <tbody>\n",
       "    <tr>\n",
       "      <th>0</th>\n",
       "      <td>2018-08-02 00:08:03.500</td>\n",
       "      <td>-57.607837</td>\n",
       "      <td>-56.670380</td>\n",
       "    </tr>\n",
       "    <tr>\n",
       "      <th>1</th>\n",
       "      <td>2018-08-02 00:08:04.000</td>\n",
       "      <td>-57.849402</td>\n",
       "      <td>-56.669828</td>\n",
       "    </tr>\n",
       "    <tr>\n",
       "      <th>2</th>\n",
       "      <td>2018-08-02 00:08:04.500</td>\n",
       "      <td>-58.041780</td>\n",
       "      <td>-56.669340</td>\n",
       "    </tr>\n",
       "    <tr>\n",
       "      <th>3</th>\n",
       "      <td>2018-08-02 00:08:05.000</td>\n",
       "      <td>-57.718385</td>\n",
       "      <td>-56.668625</td>\n",
       "    </tr>\n",
       "    <tr>\n",
       "      <th>4</th>\n",
       "      <td>2018-08-02 00:08:05.500</td>\n",
       "      <td>-57.395894</td>\n",
       "      <td>-56.667946</td>\n",
       "    </tr>\n",
       "    <tr>\n",
       "      <th>...</th>\n",
       "      <td>...</td>\n",
       "      <td>...</td>\n",
       "      <td>...</td>\n",
       "    </tr>\n",
       "    <tr>\n",
       "      <th>30048620</th>\n",
       "      <td>2019-05-31 22:57:28.007</td>\n",
       "      <td>-55.031424</td>\n",
       "      <td>-63.653202</td>\n",
       "    </tr>\n",
       "    <tr>\n",
       "      <th>30048621</th>\n",
       "      <td>2019-05-31 22:57:28.507</td>\n",
       "      <td>-49.616213</td>\n",
       "      <td>-63.635780</td>\n",
       "    </tr>\n",
       "    <tr>\n",
       "      <th>30048622</th>\n",
       "      <td>2019-05-31 22:57:29.007</td>\n",
       "      <td>-49.719039</td>\n",
       "      <td>-63.618844</td>\n",
       "    </tr>\n",
       "    <tr>\n",
       "      <th>30048623</th>\n",
       "      <td>2019-05-31 22:57:29.507</td>\n",
       "      <td>-48.590468</td>\n",
       "      <td>-63.600810</td>\n",
       "    </tr>\n",
       "    <tr>\n",
       "      <th>30048624</th>\n",
       "      <td>2019-05-31 22:57:30.007</td>\n",
       "      <td>-52.633453</td>\n",
       "      <td>-63.585943</td>\n",
       "    </tr>\n",
       "  </tbody>\n",
       "</table>\n",
       "<p>30048625 rows × 3 columns</p>\n",
       "</div>"
      ],
      "text/plain": [
       "                       timestamp  broadband_spl  background_spl\n",
       "0        2018-08-02 00:08:03.500     -57.607837      -56.670380\n",
       "1        2018-08-02 00:08:04.000     -57.849402      -56.669828\n",
       "2        2018-08-02 00:08:04.500     -58.041780      -56.669340\n",
       "3        2018-08-02 00:08:05.000     -57.718385      -56.668625\n",
       "4        2018-08-02 00:08:05.500     -57.395894      -56.667946\n",
       "...                          ...            ...             ...\n",
       "30048620 2019-05-31 22:57:28.007     -55.031424      -63.653202\n",
       "30048621 2019-05-31 22:57:28.507     -49.616213      -63.635780\n",
       "30048622 2019-05-31 22:57:29.007     -49.719039      -63.618844\n",
       "30048623 2019-05-31 22:57:29.507     -48.590468      -63.600810\n",
       "30048624 2019-05-31 22:57:30.007     -52.633453      -63.585943\n",
       "\n",
       "[30048625 rows x 3 columns]"
      ]
     },
     "execution_count": 9,
     "metadata": {},
     "output_type": "execute_result"
    }
   ],
   "source": [
    "df = pd.read_feather(config.processed_data_path + '/whole_year/whole_year.feather')\n",
    "df"
   ]
  },
  {
   "cell_type": "code",
   "execution_count": 13,
   "metadata": {},
   "outputs": [
    {
     "data": {
      "text/html": [
       "<div>\n",
       "<style scoped>\n",
       "    .dataframe tbody tr th:only-of-type {\n",
       "        vertical-align: middle;\n",
       "    }\n",
       "\n",
       "    .dataframe tbody tr th {\n",
       "        vertical-align: top;\n",
       "    }\n",
       "\n",
       "    .dataframe thead th {\n",
       "        text-align: right;\n",
       "    }\n",
       "</style>\n",
       "<table border=\"1\" class=\"dataframe\">\n",
       "  <thead>\n",
       "    <tr style=\"text-align: right;\">\n",
       "      <th></th>\n",
       "      <th>timestamp</th>\n",
       "      <th>broadband_spl</th>\n",
       "      <th>month</th>\n",
       "    </tr>\n",
       "  </thead>\n",
       "  <tbody>\n",
       "    <tr>\n",
       "      <th>0</th>\n",
       "      <td>2018-08-31</td>\n",
       "      <td>-59.240210</td>\n",
       "      <td>2018-08</td>\n",
       "    </tr>\n",
       "    <tr>\n",
       "      <th>1</th>\n",
       "      <td>2018-09-30</td>\n",
       "      <td>-50.645967</td>\n",
       "      <td>2018-09</td>\n",
       "    </tr>\n",
       "    <tr>\n",
       "      <th>2</th>\n",
       "      <td>2018-10-31</td>\n",
       "      <td>-62.259018</td>\n",
       "      <td>2018-10</td>\n",
       "    </tr>\n",
       "    <tr>\n",
       "      <th>3</th>\n",
       "      <td>2018-11-30</td>\n",
       "      <td>-68.445523</td>\n",
       "      <td>2018-11</td>\n",
       "    </tr>\n",
       "    <tr>\n",
       "      <th>4</th>\n",
       "      <td>2018-12-31</td>\n",
       "      <td>-63.118367</td>\n",
       "      <td>2018-12</td>\n",
       "    </tr>\n",
       "    <tr>\n",
       "      <th>5</th>\n",
       "      <td>2019-01-31</td>\n",
       "      <td>-63.728790</td>\n",
       "      <td>2019-01</td>\n",
       "    </tr>\n",
       "    <tr>\n",
       "      <th>6</th>\n",
       "      <td>2019-02-28</td>\n",
       "      <td>-63.805904</td>\n",
       "      <td>2019-02</td>\n",
       "    </tr>\n",
       "    <tr>\n",
       "      <th>7</th>\n",
       "      <td>2019-03-31</td>\n",
       "      <td>-63.021809</td>\n",
       "      <td>2019-03</td>\n",
       "    </tr>\n",
       "    <tr>\n",
       "      <th>8</th>\n",
       "      <td>2019-04-30</td>\n",
       "      <td>-64.615025</td>\n",
       "      <td>2019-04</td>\n",
       "    </tr>\n",
       "    <tr>\n",
       "      <th>9</th>\n",
       "      <td>2019-05-31</td>\n",
       "      <td>-64.759774</td>\n",
       "      <td>2019-05</td>\n",
       "    </tr>\n",
       "  </tbody>\n",
       "</table>\n",
       "</div>"
      ],
      "text/plain": [
       "   timestamp  broadband_spl    month\n",
       "0 2018-08-31     -59.240210  2018-08\n",
       "1 2018-09-30     -50.645967  2018-09\n",
       "2 2018-10-31     -62.259018  2018-10\n",
       "3 2018-11-30     -68.445523  2018-11\n",
       "4 2018-12-31     -63.118367  2018-12\n",
       "5 2019-01-31     -63.728790  2019-01\n",
       "6 2019-02-28     -63.805904  2019-02\n",
       "7 2019-03-31     -63.021809  2019-03\n",
       "8 2019-04-30     -64.615025  2019-04\n",
       "9 2019-05-31     -64.759774  2019-05"
      ]
     },
     "execution_count": 13,
     "metadata": {},
     "output_type": "execute_result"
    }
   ],
   "source": [
    "monthly_spl_df = df.groupby(pd.Grouper(key=\"timestamp\", freq='1M'), as_index=True).mean().drop(columns=[\"background_spl\"]).reset_index()\n",
    "monthly_spl_df['month'] = monthly_spl_df['timestamp'].dt.strftime('%Y-%m')\n",
    "monthly_spl_df"
   ]
  },
  {
   "cell_type": "markdown",
   "metadata": {},
   "source": [
    "Open water loudness (August & September)"
   ]
  },
  {
   "cell_type": "code",
   "execution_count": 19,
   "metadata": {},
   "outputs": [
    {
     "data": {
      "text/plain": [
       "-54.9430884230642"
      ]
     },
     "execution_count": 19,
     "metadata": {},
     "output_type": "execute_result"
    }
   ],
   "source": [
    "monthly_spl_df[(monthly_spl_df[\"timestamp\"].dt.month == 8) | (monthly_spl_df[\"timestamp\"].dt.month == 9)][\"broadband_spl\"].mean()"
   ]
  },
  {
   "cell_type": "markdown",
   "metadata": {},
   "source": [
    "Freeze-up loudness (October & November)"
   ]
  },
  {
   "cell_type": "code",
   "execution_count": 20,
   "metadata": {},
   "outputs": [
    {
     "data": {
      "text/plain": [
       "-65.35227045412012"
      ]
     },
     "execution_count": 20,
     "metadata": {},
     "output_type": "execute_result"
    }
   ],
   "source": [
    "monthly_spl_df[(monthly_spl_df[\"timestamp\"].dt.month == 10) | (monthly_spl_df[\"timestamp\"].dt.month == 11)][\"broadband_spl\"].mean()"
   ]
  },
  {
   "cell_type": "markdown",
   "metadata": {},
   "source": [
    "Ice cover loudness (December 2018 - May 2019)"
   ]
  },
  {
   "cell_type": "code",
   "execution_count": 21,
   "metadata": {},
   "outputs": [
    {
     "data": {
      "text/plain": [
       "-63.84161149828148"
      ]
     },
     "execution_count": 21,
     "metadata": {},
     "output_type": "execute_result"
    }
   ],
   "source": [
    "monthly_spl_df[(monthly_spl_df[\"timestamp\"].dt.month == 12) | (monthly_spl_df[\"timestamp\"].dt.year == 2019)][\"broadband_spl\"].mean()"
   ]
  },
  {
   "cell_type": "code",
   "execution_count": 51,
   "metadata": {},
   "outputs": [
    {
     "name": "stdout",
     "output_type": "stream",
     "text": [
      "-62.364038674405755\n",
      "4.7118842858526095\n"
     ]
    },
    {
     "data": {
      "text/plain": [
       "0     True\n",
       "1    False\n",
       "2     True\n",
       "3    False\n",
       "4     True\n",
       "5     True\n",
       "6     True\n",
       "7     True\n",
       "8     True\n",
       "9     True\n",
       "Name: broadband_spl, dtype: bool"
      ]
     },
     "execution_count": 51,
     "metadata": {},
     "output_type": "execute_result"
    }
   ],
   "source": [
    "print(monthly_spl_df[\"broadband_spl\"].mean())\n",
    "print(monthly_spl_df[\"broadband_spl\"].std())\n",
    "monthly_spl_df[\"diff\"] = (monthly_spl_df[\"broadband_spl\"] - monthly_spl_df[\"broadband_spl\"].mean()).abs()\n",
    "(monthly_spl_df[\"broadband_spl\"] - monthly_spl_df[\"broadband_spl\"].mean()).abs() < (monthly_spl_df[\"broadband_spl\"].std())"
   ]
  },
  {
   "cell_type": "code",
   "execution_count": 49,
   "metadata": {},
   "outputs": [
    {
     "data": {
      "text/html": [
       "<div>\n",
       "<style scoped>\n",
       "    .dataframe tbody tr th:only-of-type {\n",
       "        vertical-align: middle;\n",
       "    }\n",
       "\n",
       "    .dataframe tbody tr th {\n",
       "        vertical-align: top;\n",
       "    }\n",
       "\n",
       "    .dataframe thead th {\n",
       "        text-align: right;\n",
       "    }\n",
       "</style>\n",
       "<table border=\"1\" class=\"dataframe\">\n",
       "  <thead>\n",
       "    <tr style=\"text-align: right;\">\n",
       "      <th></th>\n",
       "      <th>timestamp</th>\n",
       "      <th>broadband_spl</th>\n",
       "      <th>diff</th>\n",
       "      <th>2sd</th>\n",
       "    </tr>\n",
       "  </thead>\n",
       "  <tbody>\n",
       "    <tr>\n",
       "      <th>0</th>\n",
       "      <td>2018-08</td>\n",
       "      <td>-59.240210</td>\n",
       "      <td>3.123828</td>\n",
       "      <td>-124.728077</td>\n",
       "    </tr>\n",
       "    <tr>\n",
       "      <th>1</th>\n",
       "      <td>2018-09</td>\n",
       "      <td>-50.645967</td>\n",
       "      <td>11.718072</td>\n",
       "      <td>-124.728077</td>\n",
       "    </tr>\n",
       "    <tr>\n",
       "      <th>2</th>\n",
       "      <td>2018-10</td>\n",
       "      <td>-62.259018</td>\n",
       "      <td>0.105021</td>\n",
       "      <td>-124.728077</td>\n",
       "    </tr>\n",
       "    <tr>\n",
       "      <th>3</th>\n",
       "      <td>2018-11</td>\n",
       "      <td>-68.445523</td>\n",
       "      <td>6.081484</td>\n",
       "      <td>-124.728077</td>\n",
       "    </tr>\n",
       "    <tr>\n",
       "      <th>4</th>\n",
       "      <td>2018-12</td>\n",
       "      <td>-63.118367</td>\n",
       "      <td>0.754328</td>\n",
       "      <td>-124.728077</td>\n",
       "    </tr>\n",
       "    <tr>\n",
       "      <th>5</th>\n",
       "      <td>2019-01</td>\n",
       "      <td>-63.728790</td>\n",
       "      <td>1.364751</td>\n",
       "      <td>-124.728077</td>\n",
       "    </tr>\n",
       "    <tr>\n",
       "      <th>6</th>\n",
       "      <td>2019-02</td>\n",
       "      <td>-63.805904</td>\n",
       "      <td>1.441865</td>\n",
       "      <td>-124.728077</td>\n",
       "    </tr>\n",
       "    <tr>\n",
       "      <th>7</th>\n",
       "      <td>2019-03</td>\n",
       "      <td>-63.021809</td>\n",
       "      <td>0.657771</td>\n",
       "      <td>-124.728077</td>\n",
       "    </tr>\n",
       "    <tr>\n",
       "      <th>8</th>\n",
       "      <td>2019-04</td>\n",
       "      <td>-64.615025</td>\n",
       "      <td>2.250986</td>\n",
       "      <td>-124.728077</td>\n",
       "    </tr>\n",
       "    <tr>\n",
       "      <th>9</th>\n",
       "      <td>2019-05</td>\n",
       "      <td>-64.759774</td>\n",
       "      <td>2.395736</td>\n",
       "      <td>-124.728077</td>\n",
       "    </tr>\n",
       "  </tbody>\n",
       "</table>\n",
       "</div>"
      ],
      "text/plain": [
       "  timestamp  broadband_spl       diff         2sd\n",
       "0   2018-08     -59.240210   3.123828 -124.728077\n",
       "1   2018-09     -50.645967  11.718072 -124.728077\n",
       "2   2018-10     -62.259018   0.105021 -124.728077\n",
       "3   2018-11     -68.445523   6.081484 -124.728077\n",
       "4   2018-12     -63.118367   0.754328 -124.728077\n",
       "5   2019-01     -63.728790   1.364751 -124.728077\n",
       "6   2019-02     -63.805904   1.441865 -124.728077\n",
       "7   2019-03     -63.021809   0.657771 -124.728077\n",
       "8   2019-04     -64.615025   2.250986 -124.728077\n",
       "9   2019-05     -64.759774   2.395736 -124.728077"
      ]
     },
     "execution_count": 49,
     "metadata": {},
     "output_type": "execute_result"
    }
   ],
   "source": [
    "monthly_spl_df"
   ]
  },
  {
   "cell_type": "code",
   "execution_count": 26,
   "metadata": {},
   "outputs": [
    {
     "name": "stdout",
     "output_type": "stream",
     "text": [
      "2021-12-19 18:36:11,076 - matplotlib.category - INFO - Using categorical units to plot a list of strings that are all parsable as floats or dates. If these strings should be plotted as numbers, cast to the appropriate data type before plotting.\n",
      "2021-12-19 18:36:11,077 - matplotlib.category - INFO - Using categorical units to plot a list of strings that are all parsable as floats or dates. If these strings should be plotted as numbers, cast to the appropriate data type before plotting.\n"
     ]
    },
    {
     "data": {
      "image/png": "[encoded data removed]",
      "text/plain": [
       "<Figure size 1152x864 with 1 Axes>"
      ]
     },
     "metadata": {
      "needs_background": "light"
     },
     "output_type": "display_data"
    }
   ],
   "source": [
    "plt.figure(figsize=(16,12))\n",
    "t = monthly_spl_df['timestamp']\n",
    "y = -monthly_spl_df['broadband_spl']\n",
    "plt.bar(t, y)\n",
    "plt.show()"
   ]
  },
  {
   "cell_type": "code",
   "execution_count": 47,
   "metadata": {},
   "outputs": [
    {
     "data": {
      "image/png": "[encoded data removed]",
      "text/plain": [
       "<Figure size 1152x864 with 1 Axes>"
      ]
     },
     "metadata": {
      "needs_background": "light"
     },
     "output_type": "display_data"
    }
   ],
   "source": [
    "averaging_window = 2 * 60 * 60 * 24 * 2\n",
    "rolling_mean = df['broadband_spl'].rolling(averaging_window).mean()\n",
    "rolling_mean_not_null = rolling_mean.notnull()\n",
    "rolling_mean = rolling_mean[rolling_mean_not_null]\n",
    "\n",
    "plt.figure(figsize=(16,12))\n",
    "\n",
    "step = 10000\n",
    "\n",
    "t = df['timestamp'][rolling_mean_not_null]\n",
    "y = rolling_mean\n",
    "plt.plot(t[::step], y[::step], 'b-', label='Broadband SPL')\n",
    "\n",
    "plt.legend()\n",
    "plt.show()"
   ]
  },
  {
   "cell_type": "code",
   "execution_count": null,
   "metadata": {},
   "outputs": [],
   "source": []
  }
 ],
 "metadata": {
  "interpreter": {
   "hash": "b0fa6594d8f4cbf19f97940f81e996739fb7646882a419484c72d19e05852a7e"
  },
  "kernelspec": {
   "display_name": "Python 3.9.7 64-bit",
   "language": "python",
   "name": "python3"
  },
  "language_info": {
   "codemirror_mode": {
    "name": "ipython",
    "version": 3
   },
   "file_extension": ".py",
   "mimetype": "text/x-python",
   "name": "python",
   "nbconvert_exporter": "python",
   "pygments_lexer": "ipython3",
   "version": "3.8.12"
  },
  "orig_nbformat": 4
 },
 "nbformat": 4,
 "nbformat_minor": 2
}
