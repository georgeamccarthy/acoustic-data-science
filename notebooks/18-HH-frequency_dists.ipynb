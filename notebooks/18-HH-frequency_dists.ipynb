{
 "cells": [
  {
   "cell_type": "code",
   "execution_count": 1,
   "id": "feec92e3",
   "metadata": {},
   "outputs": [],
   "source": [
    "import pandas as pd\n",
    "import datetime\n",
    "import numpy as np\n",
    "import os\n",
    "import glob\n",
    "import matplotlib.pyplot as plt\n",
    "from acoustic_data_science import config, helpers\n",
    "\n",
    "%matplotlib tk\n",
    "#%matplotlib inline"
   ]
  },
  {
   "cell_type": "code",
   "execution_count": 2,
   "id": "b8e2b589",
   "metadata": {},
   "outputs": [],
   "source": [
    "def duration_grouping(df, duration_min, duration_max): \n",
    "    return df[(df['duration']>duration_min) & (df['duration']<=duration_max)]"
   ]
  },
  {
   "cell_type": "code",
   "execution_count": 3,
   "id": "da8e746e",
   "metadata": {},
   "outputs": [],
   "source": [
    "def duration_groups_av_noise(df): \n",
    "    \n",
    "    #array of TOL frequency bands as float\n",
    "    freq = df.drop(['filename', 'broadband_spl', 'background_spl', 'loud', 'duration', 'timestamp'], axis=1).columns.to_numpy()\n",
    "    freq = freq.astype(float)\n",
    "\n",
    "    #create dataframes \n",
    "    df_short = duration_grouping(df, 0, 0.5)\n",
    "    df_med_short = duration_grouping(df, 0.5, 5)\n",
    "    df_med = duration_grouping(df, 5, 180)\n",
    "    df_long = duration_grouping(df, 180, 1200)\n",
    "    \n",
    "    #average noise across each duration specified\n",
    "    short_av = df_short.drop(['filename', 'broadband_spl', 'background_spl', 'loud', 'duration', 'timestamp'], axis=1).mean(axis=0) \n",
    "    med_short_av = df_med_short.drop(['filename', 'broadband_spl', 'background_spl', 'loud', 'duration', 'timestamp'], axis=1).mean(axis=0) \n",
    "    med_av = df_med.drop(['filename', 'broadband_spl', 'background_spl', 'loud', 'duration', 'timestamp'], axis=1).mean(axis=0) \n",
    "    long_av = df_long.drop(['filename', 'broadband_spl', 'background_spl', 'loud', 'duration', 'timestamp'], axis=1).mean(axis=0) \n",
    "    \n",
    "    \n",
    "    #frequency against average noise for each duration specified\n",
    "    freq_dist_short = pd.DataFrame({'Freq':freq, 'Average Noise':short_av})\n",
    "    freq_dist_med_short = pd.DataFrame({'Freq':freq, 'Average Noise':med_short_av})\n",
    "    freq_dist_med = pd.DataFrame({'Freq':freq, 'Average Noise':med_av})\n",
    "    freq_dist_long = pd.DataFrame({'Freq':freq, 'Average Noise':long_av})\n",
    "        \n",
    "    return freq_dist_short, freq_dist_med_short, freq_dist_med, freq_dist_long"
   ]
  },
  {
   "cell_type": "code",
   "execution_count": 4,
   "id": "b6320f2b",
   "metadata": {},
   "outputs": [],
   "source": [
    "#import monthly files, only events that are flagged as loud\n",
    "transients_path = config.processed_data_path + \"/transient_timestamps_and_durations\"\n",
    "\n",
    "def transients_month_path(month):\n",
    "    return os.path.join(transients_path, month + '.feather')"
   ]
  },
  {
   "cell_type": "code",
   "execution_count": 5,
   "id": "0e7a609f",
   "metadata": {},
   "outputs": [],
   "source": [
    "aug_loud = pd.read_feather(transients_month_path('2018_08'))\n",
    "sep_loud = pd.read_feather(transients_month_path('2018_09'))\n",
    "oct_loud = pd.read_feather(transients_month_path('2018_10'))\n",
    "nov_loud = pd.read_feather(transients_month_path('2018_11'))\n",
    "dec_loud = pd.read_feather(transients_month_path('2018_12'))\n",
    "jan_loud = pd.read_feather(transients_month_path('2019_01'))\n",
    "feb_loud = pd.read_feather(transients_month_path('2019_02'))\n",
    "mar_loud = pd.read_feather(transients_month_path('2019_03'))\n",
    "apr_loud = pd.read_feather(transients_month_path('2019_04'))\n",
    "may_loud = pd.read_feather(transients_month_path('2019_05'))"
   ]
  },
  {
   "cell_type": "code",
   "execution_count": 6,
   "id": "394b1080",
   "metadata": {},
   "outputs": [],
   "source": [
    "#import monthly files, keeping only the average noise for each TOL band across the whole month \n",
    "aug  = pd.read_feather(helpers.feather_path_from_month_name(config.processed_data_path, '2018_08')).drop(['filename', 'broadband_spl', 'background_spl',  'unnormalised_broadband_spl', 'short_transient', 'loud', 'timestamp'], axis=1).mean(axis=0) \n",
    "sep  = pd.read_feather(helpers.feather_path_from_month_name(config.processed_data_path, '2018_09')).drop(['filename', 'broadband_spl', 'background_spl',  'unnormalised_broadband_spl', 'short_transient', 'loud', 'timestamp'], axis=1).mean(axis=0) \n",
    "oct  = pd.read_feather(helpers.feather_path_from_month_name(config.processed_data_path, '2018_10')).drop(['filename', 'broadband_spl', 'background_spl',  'unnormalised_broadband_spl', 'short_transient', 'loud', 'timestamp'], axis=1).mean(axis=0) \n",
    "nov  = pd.read_feather(helpers.feather_path_from_month_name(config.processed_data_path, '2018_11')).drop(['filename', 'broadband_spl', 'background_spl',  'unnormalised_broadband_spl', 'short_transient', 'loud', 'timestamp'], axis=1).mean(axis=0) \n",
    "dec  = pd.read_feather(helpers.feather_path_from_month_name(config.processed_data_path, '2018_12')).drop(['filename', 'broadband_spl', 'background_spl',  'unnormalised_broadband_spl', 'short_transient', 'loud', 'timestamp'], axis=1).mean(axis=0) \n",
    "jan  = pd.read_feather(helpers.feather_path_from_month_name(config.processed_data_path, '2019_01')).drop(['filename', 'broadband_spl', 'background_spl',  'unnormalised_broadband_spl', 'short_transient', 'loud', 'timestamp'], axis=1).mean(axis=0) \n",
    "feb  = pd.read_feather(helpers.feather_path_from_month_name(config.processed_data_path, '2019_02')).drop(['filename', 'broadband_spl', 'background_spl',  'unnormalised_broadband_spl', 'short_transient', 'loud', 'timestamp'], axis=1).mean(axis=0) \n",
    "mar  = pd.read_feather(helpers.feather_path_from_month_name(config.processed_data_path, '2019_03')).drop(['filename', 'broadband_spl', 'background_spl',  'unnormalised_broadband_spl', 'short_transient', 'loud', 'timestamp'], axis=1).mean(axis=0) \n",
    "apr  = pd.read_feather(helpers.feather_path_from_month_name(config.processed_data_path, '2019_04')).drop(['filename', 'broadband_spl', 'background_spl',  'unnormalised_broadband_spl', 'short_transient', 'loud', 'timestamp'], axis=1).mean(axis=0) \n",
    "may  = pd.read_feather(helpers.feather_path_from_month_name(config.processed_data_path, '2019_05')).drop(['filename', 'broadband_spl', 'background_spl',  'unnormalised_broadband_spl', 'short_transient', 'loud', 'timestamp'], axis=1).mean(axis=0) "
   ]
  },
  {
   "cell_type": "code",
   "execution_count": 7,
   "id": "732694a4",
   "metadata": {},
   "outputs": [
    {
     "name": "stderr",
     "output_type": "stream",
     "text": [
      "/var/folders/xw/j5fzsq4j5d5gfqy4tsdkbz0h0000gn/T/ipykernel_17791/3787598026.py:3: DeprecationWarning: `np.float` is a deprecated alias for the builtin `float`. To silence this warning, use `float` by itself. Doing this will not modify any behavior and is safe. If you specifically wanted the numpy scalar type, use `np.float64` here.\n",
      "Deprecated in NumPy 1.20; for more details and guidance: https://numpy.org/devdocs/release/1.20.0-notes.html#deprecations\n",
      "  freq = freq.astype(np.float)\n"
     ]
    }
   ],
   "source": [
    "#frequencies as floats\n",
    "freq = aug_loud.drop(['filename', 'broadband_spl', 'background_spl', 'loud', 'duration', 'timestamp'], axis=1).columns.to_numpy()\n",
    "freq = freq.astype(np.float)"
   ]
  },
  {
   "cell_type": "markdown",
   "id": "bf671222",
   "metadata": {},
   "source": [
    "Durations key: <br>\n",
    "Short transients: < 0.5 seconds  <br>\n",
    "Medium short events: 0.5 sec - 5 sec   <br>\n",
    "Medium events: 5 sec - 3 minutes   <br>\n",
    "Long events: 3 minutes - 20 minutes   <br>"
   ]
  },
  {
   "cell_type": "code",
   "execution_count": 11,
   "id": "2d9453ee",
   "metadata": {},
   "outputs": [],
   "source": [
    "#define number of rows and columns for subplots\n",
    "nrow=4\n",
    "ncol=3\n",
    "\n",
    "# make a list of all dataframes \n",
    "df_month_list =  [aug, sep, oct, nov, dec, jan, feb, mar, apr, may]\n",
    "df_loud_list =  [aug_loud, sep_loud, oct_loud, nov_loud, dec_loud, jan_loud, feb_loud, mar_loud, apr_loud, may_loud]\n",
    "titles = ['08-2018', '09-2018', '10-2018', '11-2018', '12-2018', '01-2019', '02-2019', '03-2019', '04-2019', '05-2019']\n",
    "\n",
    "\n",
    "fig, axes = plt.subplots(nrow, ncol, sharex=False, sharey=False, figsize=(16,18))\n",
    "\n",
    "# plot counter\n",
    "count=0\n",
    "for r in range(nrow):\n",
    "    for c in range(ncol):\n",
    "\n",
    "        if count > 9:\n",
    "            break\n",
    "\n",
    "        #get dataframes\n",
    "        freq_dist_month = pd.DataFrame({'Freq':freq, 'Average Noise': df_month_list[count]})\n",
    "\n",
    "        df_loud = df_loud_list[count]\n",
    "\n",
    "        freq_dist_short, freq_dist_med_short, freq_dist_med, freq_dist_long = duration_groups_av_noise(df_loud)\n",
    "\n",
    "        #plotting \n",
    "        freq_dist_month.plot(x='Freq', y='Average Noise', color='red', stacked=False, ax=axes[r,c], label='Entire month', legend=False)\n",
    "        freq_dist_short.plot(x='Freq', y='Average Noise', color='tab:orange', stacked=False, ax=axes[r,c], label='Short transients', legend=False)\n",
    "        freq_dist_med_short.plot(x='Freq', y='Average Noise', color='blue', stacked=False, ax=axes[r,c], label='Medium short events', legend=False)\n",
    "        freq_dist_med.plot(x='Freq', y='Average Noise', color='green', stacked=False, ax=axes[r,c], label='Medium events', legend=False)\n",
    "        freq_dist_long.plot(x='Freq', y='Average Noise', color='purple', stacked=False, ax=axes[r,c], label='Long events', legend=False)\n",
    "\n",
    "        #set titles \n",
    "        axes[r, c].set_title(titles[count])\n",
    "        axes[r, c].set_xscale('log')\n",
    "        axes[r, c].set_xlabel(\"\")\n",
    "        #axes[r, c].set_ylim(55,95)\n",
    "        \"\"\"\n",
    "        axes[r, c].set_xticks(aug.index.astype(\"int\").values)\n",
    "        axes[r, c].set_xticklabels(aug.index.values, rotation=90)\n",
    "        \"\"\"\n",
    "        \n",
    "        count+=1\n",
    "\n",
    "axes[3, 1].axis('off')\n",
    "axes[3, 2].axis('off')\n",
    "\n",
    "#formatting axis labels and axis limits \n",
    "fig.legend([\"Entire month\", r\"$\\leq 0.5$ sec\", \"0.5 - 5 sec\", \"5 sec - 3 min\", \"3 - 20 min\"], loc=\"center\", bbox_to_anchor=(0.5,0.5), bbox_transform=axes[3,1].transAxes)\n",
    "\n",
    "#plt.tight_layout()\n",
    "#plt.xscale('log')\n",
    "fig.text(0.5, -0.08, 'Frequency TOL bands (Hz)', ha='center', fontsize=14)\n",
    "fig.text(0.04, 0.5, 'Average PSD (dB rel.)', va='center', rotation='vertical', fontsize=14)\n",
    "fig.savefig(config.figures_path + '/transient_freq_dists.png', dpi=300, transparent=False)\n",
    "\n",
    "plt.show()"
   ]
  },
  {
   "cell_type": "code",
   "execution_count": 21,
   "id": "5e48e210",
   "metadata": {},
   "outputs": [],
   "source": []
  },
  {
   "cell_type": "code",
   "execution_count": 23,
   "id": "ef7061d8",
   "metadata": {},
   "outputs": [],
   "source": [
    "#define number of rows and columns for subplots\n",
    "nrow=4\n",
    "ncol=3\n",
    "\n",
    "# make a list of all dataframes \n",
    "df_month_list =  [aug, sep, oct, nov, dec, jan, feb, mar, apr, may]\n",
    "df_loud_list =  [aug_loud, sep_loud, oct_loud, nov_loud, dec_loud, jan_loud, feb_loud, mar_loud, apr_loud, may_loud]\n",
    "titles = ['08-2018', '09-2018', '10-2018', '11-2018', '12-2018', '01-2019', '02-2019', '03-2019', '04-2019', '05-2019']\n",
    "\n",
    "\n",
    "fig, axes = plt.subplots(nrow, ncol, sharex=False, sharey=False, figsize=(16,18))\n",
    "\n",
    "# plot counter\n",
    "count=0\n",
    "for r in range(nrow):\n",
    "    for c in range(ncol):\n",
    "\n",
    "        if count > 9:\n",
    "            break\n",
    "\n",
    "        #get dataframes\n",
    "        freq_dist_month = pd.DataFrame({'Freq':freq, 'Average Noise': df_month_list[count]})\n",
    "\n",
    "        df_loud = df_loud_list[count]\n",
    "\n",
    "        freq_dist_short, freq_dist_med_short, freq_dist_med, freq_dist_long = duration_groups_av_noise(df_loud)\n",
    "\n",
    "        sub_freq_dist_short = freq_dist_short\n",
    "        sub_freq_dist_med_short = freq_dist_med_short\n",
    "        sub_freq_dist_med = freq_dist_med\n",
    "        sub_freq_dist_long = freq_dist_long\n",
    "\n",
    "        sub_freq_dist_short[\"Average Noise\"] = freq_dist_short[\"Average Noise\"] - freq_dist_month[\"Average Noise\"]\n",
    "        sub_freq_dist_med_short[\"Average Noise\"] = freq_dist_med_short[\"Average Noise\"] - freq_dist_month[\"Average Noise\"]\n",
    "        sub_freq_dist_med[\"Average Noise\"] = freq_dist_med[\"Average Noise\"] - freq_dist_month[\"Average Noise\"]\n",
    "        sub_freq_dist_long[\"Average Noise\"] = freq_dist_long[\"Average Noise\"] - freq_dist_month[\"Average Noise\"]\n",
    "\n",
    "        #plotting \n",
    "        #freq_dist_month.plot(x='Freq', y='Average Noise', color='red', stacked=False, ax=axes[r,c], label='Entire month', legend=False)\n",
    "        sub_freq_dist_short.plot(x='Freq', y='Average Noise', color='tab:orange', stacked=False, ax=axes[r,c], label='Short transients', legend=False)\n",
    "        sub_freq_dist_med_short.plot(x='Freq', y='Average Noise', color='blue', stacked=False, ax=axes[r,c], label='Medium short events', legend=False)\n",
    "        sub_freq_dist_med.plot(x='Freq', y='Average Noise', color='green', stacked=False, ax=axes[r,c], label='Medium events', legend=False)\n",
    "        sub_freq_dist_long.plot(x='Freq', y='Average Noise', color='purple', stacked=False, ax=axes[r,c], label='Long events', legend=False)\n",
    "\n",
    "        #set titles \n",
    "        axes[r, c].set_title(titles[count])\n",
    "        axes[r, c].set_xscale('log')\n",
    "        axes[r, c].set_xlabel(\"\")\n",
    "        #axes[r, c].set_ylim(55,95)\n",
    "        \"\"\"\n",
    "        axes[r, c].set_xticks(aug.index.astype(\"int\").values)\n",
    "        axes[r, c].set_xticklabels(aug.index.values, rotation=90)\n",
    "        \"\"\"\n",
    "        \n",
    "        count+=1\n",
    "\n",
    "axes[3, 1].axis('off')\n",
    "axes[3, 2].axis('off')\n",
    "\n",
    "#formatting axis labels and axis limits \n",
    "fig.legend([\"Entire month\", r\"$\\leq 0.5$ sec\", \"0.5 - 5 sec\", \"5 sec - 3 min\", \"3 - 20 min\"], loc=\"center\", bbox_to_anchor=(0.5,0.5), bbox_transform=axes[3,1].transAxes)\n",
    "\n",
    "#plt.tight_layout()\n",
    "#plt.xscale('log')\n",
    "fig.text(0.5, -0.08, 'Frequency TOL bands (Hz)', ha='center', fontsize=14)\n",
    "fig.text(0.04, 0.5, 'Average PSD (dB rel.)', va='center', rotation='vertical', fontsize=14)\n",
    "fig.savefig(config.figures_path + '/transient_freq_dists.png', dpi=300, transparent=False)\n",
    "\n",
    "plt.show()"
   ]
  },
  {
   "cell_type": "code",
   "execution_count": null,
   "id": "5e48e210",
   "metadata": {},
   "outputs": [],
   "source": [
    "sub_freq_dist_short = freq_dist_short\n",
    "sub_freq_dist_med_short = freq_dist_short\n",
    "sub_freq_dist_med = freq_dist_short\n",
    "sub_freq_dist_long = freq_dist_short\n",
    "\n",
    "sub_freq_dist_short[\"Average Noise\"] = freq_dist_short[\"Average Noise\"] - freq_dist_month[\"Average Noise\"]\n",
    "sub_freq_dist_med_short[\"Average Noise\"] = freq_dist_med_short[\"Average Noise\"] - freq_dist_month[\"Average Noise\"]\n",
    "sub_freq_dist_med[\"Average Noise\"] = freq_dist_med[\"Average Noise\"] - freq_dist_month[\"Average Noise\"]\n",
    "sub_freq_dist_long[\"Average Noise\"] = freq_dist_long[\"Average Noise\"] - freq_dist_month[\"Average Noise\"]"
   ]
  },
  {
   "cell_type": "markdown",
   "id": "25cce233",
   "metadata": {},
   "source": [
    "PLOT ANALYSIS"
   ]
  },
  {
   "cell_type": "code",
   "execution_count": 9,
   "id": "d61bc4ff",
   "metadata": {},
   "outputs": [
    {
     "data": {
      "text/plain": [
       "34105   -13.557429\n",
       "35894   -16.370481\n",
       "35941   -10.380953\n",
       "38141   -11.465419\n",
       "dtype: float64"
      ]
     },
     "execution_count": 9,
     "metadata": {},
     "output_type": "execute_result"
    }
   ],
   "source": [
    "#investigating long events in May - noise above the background \n",
    "may_long = duration_grouping(may_loud, 180, 1200)\n",
    "background_diff = may_long['background_spl'] - may_long['broadband_spl']\n",
    "background_diff"
   ]
  },
  {
   "cell_type": "code",
   "execution_count": 10,
   "id": "1b35bb43",
   "metadata": {},
   "outputs": [
    {
     "name": "stdout",
     "output_type": "stream",
     "text": [
      "frequency distribution for long, loud events in May\n"
     ]
    },
    {
     "data": {
      "image/png": "[encoded data removed]",
      "text/plain": [
       "<Figure size 864x432 with 1 Axes>"
      ]
     },
     "metadata": {
      "needs_background": "light"
     },
     "output_type": "display_data"
    }
   ],
   "source": [
    "plt.figure(figsize=(12, 6))\n",
    "plt.xscale('log')\n",
    "#plt.plot(freq, may_long.drop(['filename', 'broadband_spl', 'background_spl', 'loud', 'duration', 'timestamp'], axis=1).mean(axis=0), label='mean')\n",
    "plt.plot(freq, may_long.drop(['filename', 'broadband_spl', 'background_spl', 'loud', 'duration', 'timestamp'], axis=1).iloc[0], label='first')\n",
    "plt.plot(freq, may_long.drop(['filename', 'broadband_spl', 'background_spl', 'loud', 'duration', 'timestamp'], axis=1).iloc[1],  label='second')\n",
    "plt.plot(freq, may_long.drop(['filename', 'broadband_spl', 'background_spl', 'loud', 'duration', 'timestamp'], axis=1).iloc[2],  label='third')\n",
    "plt.plot(freq, may_long.drop(['filename', 'broadband_spl', 'background_spl', 'loud', 'duration', 'timestamp'], axis=1).iloc[3],  label='fourth')\n",
    "plt.legend()\n",
    "print('frequency distribution for long, loud events in May')"
   ]
  },
  {
   "cell_type": "markdown",
   "id": "62fae9ac",
   "metadata": {},
   "source": [
    "Long, very loud events occcur in May on 15th to 17th - 4 events, durations of 3 minutes, 5 minutes, 7 minutes and 2 minutes. <br>\n",
    "Chosen background (where which loud events are detected) is 10 minutes, therefore we cannot expect to see any loud events lasting much longer than 10 minutes.  <br>\n",
    "First two weeks of May the temperature increases from -22 to -2, perhaps the onset of ice melting?"
   ]
  },
  {
   "cell_type": "code",
   "execution_count": 11,
   "id": "cff7070d",
   "metadata": {},
   "outputs": [],
   "source": [
    "#print('5 loudest TOL band for mean noise across 4 events')\n",
    "#may_long.drop(['filename', 'broadband_spl', 'background_spl', 'loud', 'duration', 'timestamp'], axis=1).mean(axis=0).sort_values(ascending=False).head()"
   ]
  },
  {
   "cell_type": "code",
   "execution_count": 12,
   "id": "9349677b",
   "metadata": {},
   "outputs": [],
   "source": [
    "#print('fourth event')\n",
    "#may_long.drop(['filename', 'broadband_spl', 'background_spl', 'loud', 'duration', 'timestamp'], axis=1).iloc[3]"
   ]
  },
  {
   "cell_type": "code",
   "execution_count": 13,
   "id": "5195ab11",
   "metadata": {},
   "outputs": [],
   "source": [
    "#mar_short = duration_grouping(mar_loud, 0, 0.5)\n",
    "#mar_short.drop(['filename', 'broadband_spl', 'background_spl', 'loud', 'duration', 'timestamp'], axis=1).mean(axis=0).sort_values(ascending=False)"
   ]
  },
  {
   "cell_type": "code",
   "execution_count": 20,
   "id": "e41c9b18",
   "metadata": {},
   "outputs": [
    {
     "data": {
      "text/html": [
       "<div>\n",
       "<style scoped>\n",
       "    .dataframe tbody tr th:only-of-type {\n",
       "        vertical-align: middle;\n",
       "    }\n",
       "\n",
       "    .dataframe tbody tr th {\n",
       "        vertical-align: top;\n",
       "    }\n",
       "\n",
       "    .dataframe thead th {\n",
       "        text-align: right;\n",
       "    }\n",
       "</style>\n",
       "<table border=\"1\" class=\"dataframe\">\n",
       "  <thead>\n",
       "    <tr style=\"text-align: right;\">\n",
       "      <th></th>\n",
       "      <th>25</th>\n",
       "      <th>32</th>\n",
       "      <th>40</th>\n",
       "      <th>50</th>\n",
       "      <th>63</th>\n",
       "      <th>79</th>\n",
       "      <th>100</th>\n",
       "      <th>126</th>\n",
       "      <th>158</th>\n",
       "      <th>200</th>\n",
       "      <th>...</th>\n",
       "      <th>12589</th>\n",
       "      <th>15849</th>\n",
       "      <th>19953</th>\n",
       "      <th>25119</th>\n",
       "      <th>filename</th>\n",
       "      <th>timestamp</th>\n",
       "      <th>broadband_spl</th>\n",
       "      <th>background_spl</th>\n",
       "      <th>loud</th>\n",
       "      <th>duration</th>\n",
       "    </tr>\n",
       "  </thead>\n",
       "  <tbody>\n",
       "    <tr>\n",
       "      <th>740</th>\n",
       "      <td>67.037056</td>\n",
       "      <td>73.742737</td>\n",
       "      <td>73.149284</td>\n",
       "      <td>86.310356</td>\n",
       "      <td>87.026993</td>\n",
       "      <td>93.542496</td>\n",
       "      <td>78.899269</td>\n",
       "      <td>76.100533</td>\n",
       "      <td>100.384819</td>\n",
       "      <td>87.173599</td>\n",
       "      <td>...</td>\n",
       "      <td>63.266102</td>\n",
       "      <td>62.002846</td>\n",
       "      <td>61.243511</td>\n",
       "      <td>58.146336</td>\n",
       "      <td>ICLISTENHF1266_20181011T151920.944Z_TOL_1sHann...</td>\n",
       "      <td>2018-10-11 15:23:23.944</td>\n",
       "      <td>-45.113358</td>\n",
       "      <td>-57.135878</td>\n",
       "      <td>True</td>\n",
       "      <td>176.5</td>\n",
       "    </tr>\n",
       "    <tr>\n",
       "      <th>5457</th>\n",
       "      <td>65.267075</td>\n",
       "      <td>75.838066</td>\n",
       "      <td>75.800026</td>\n",
       "      <td>71.492241</td>\n",
       "      <td>72.176826</td>\n",
       "      <td>79.694153</td>\n",
       "      <td>80.838478</td>\n",
       "      <td>81.354561</td>\n",
       "      <td>79.884605</td>\n",
       "      <td>91.081474</td>\n",
       "      <td>...</td>\n",
       "      <td>65.011940</td>\n",
       "      <td>62.881672</td>\n",
       "      <td>61.497383</td>\n",
       "      <td>58.933834</td>\n",
       "      <td>ICLISTENHF1266_20181026T010813.989Z_TOL_1sHann...</td>\n",
       "      <td>2018-10-26 01:11:19.489</td>\n",
       "      <td>-48.661745</td>\n",
       "      <td>-61.657537</td>\n",
       "      <td>True</td>\n",
       "      <td>150.0</td>\n",
       "    </tr>\n",
       "    <tr>\n",
       "      <th>8734</th>\n",
       "      <td>93.039146</td>\n",
       "      <td>83.496521</td>\n",
       "      <td>101.056618</td>\n",
       "      <td>87.760712</td>\n",
       "      <td>79.875053</td>\n",
       "      <td>83.912956</td>\n",
       "      <td>82.694374</td>\n",
       "      <td>79.597580</td>\n",
       "      <td>81.197708</td>\n",
       "      <td>83.147751</td>\n",
       "      <td>...</td>\n",
       "      <td>64.510109</td>\n",
       "      <td>61.180061</td>\n",
       "      <td>60.709900</td>\n",
       "      <td>57.402946</td>\n",
       "      <td>ICLISTENHF1266_20181030T152202.989Z_TOL_1sHann...</td>\n",
       "      <td>2018-10-30 15:23:48.989</td>\n",
       "      <td>-44.219304</td>\n",
       "      <td>-58.743928</td>\n",
       "      <td>True</td>\n",
       "      <td>155.0</td>\n",
       "    </tr>\n",
       "  </tbody>\n",
       "</table>\n",
       "<p>3 rows × 37 columns</p>\n",
       "</div>"
      ],
      "text/plain": [
       "             25         32          40         50         63         79  \\\n",
       "740   67.037056  73.742737   73.149284  86.310356  87.026993  93.542496   \n",
       "5457  65.267075  75.838066   75.800026  71.492241  72.176826  79.694153   \n",
       "8734  93.039146  83.496521  101.056618  87.760712  79.875053  83.912956   \n",
       "\n",
       "            100        126         158        200  ...      12589      15849  \\\n",
       "740   78.899269  76.100533  100.384819  87.173599  ...  63.266102  62.002846   \n",
       "5457  80.838478  81.354561   79.884605  91.081474  ...  65.011940  62.881672   \n",
       "8734  82.694374  79.597580   81.197708  83.147751  ...  64.510109  61.180061   \n",
       "\n",
       "          19953      25119                                           filename  \\\n",
       "740   61.243511  58.146336  ICLISTENHF1266_20181011T151920.944Z_TOL_1sHann...   \n",
       "5457  61.497383  58.933834  ICLISTENHF1266_20181026T010813.989Z_TOL_1sHann...   \n",
       "8734  60.709900  57.402946  ICLISTENHF1266_20181030T152202.989Z_TOL_1sHann...   \n",
       "\n",
       "                   timestamp  broadband_spl  background_spl  loud  duration  \n",
       "740  2018-10-11 15:23:23.944     -45.113358      -57.135878  True     176.5  \n",
       "5457 2018-10-26 01:11:19.489     -48.661745      -61.657537  True     150.0  \n",
       "8734 2018-10-30 15:23:48.989     -44.219304      -58.743928  True     155.0  \n",
       "\n",
       "[3 rows x 37 columns]"
      ]
     },
     "execution_count": 20,
     "metadata": {},
     "output_type": "execute_result"
    }
   ],
   "source": [
    "feb_long = duration_grouping(oct_loud, 120, 1200)\n",
    "feb_long"
   ]
  },
  {
   "cell_type": "code",
   "execution_count": 112,
   "id": "ba5718c0",
   "metadata": {},
   "outputs": [
    {
     "data": {
      "text/plain": [
       "array([   25,    32,    40,    50,    63,    79,   100,   126,   158,\n",
       "         200,   251,   316,   398,   501,   631,   794,  1000,  1259,\n",
       "        1585,  1995,  2512,  3162,  3981,  5012,  6310,  7943, 10000,\n",
       "       12589, 15849, 19953, 25119])"
      ]
     },
     "execution_count": 112,
     "metadata": {},
     "output_type": "execute_result"
    }
   ],
   "source": [
    "aug.index.astype(\"int\").values"
   ]
  },
  {
   "cell_type": "code",
   "execution_count": null,
   "id": "5cc9cda8",
   "metadata": {},
   "outputs": [],
   "source": []
  }
 ],
 "metadata": {
  "kernelspec": {
   "display_name": "Python 3",
   "language": "python",
   "name": "python3"
  },
  "language_info": {
   "codemirror_mode": {
    "name": "ipython",
    "version": 3
   },
   "file_extension": ".py",
   "mimetype": "text/x-python",
   "name": "python",
   "nbconvert_exporter": "python",
   "pygments_lexer": "ipython3",
   "version": "3.8.12"
  }
 },
 "nbformat": 4,
 "nbformat_minor": 5
}
